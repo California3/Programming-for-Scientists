{
 "cells": [
  {
   "cell_type": "code",
   "execution_count": 793,
   "metadata": {},
   "outputs": [],
   "source": [
    "# import all common packages\n",
    "import pandas as pd\n",
    "import numpy as np\n",
    "# import matplotlib.pyplot as plt\n",
    "import math\n",
    "import os\n",
    "import sys"
   ]
  },
  {
   "cell_type": "code",
   "execution_count": 794,
   "metadata": {},
   "outputs": [],
   "source": [
    "def sum_odd_digits(number):\n",
    "    #TODO: implement this function\n",
    "    strs = str(number)\n",
    "    sum = 0\n",
    "    for i in strs:\n",
    "        if int(i) % 2 != 0:\n",
    "            sum += int(i)\n",
    "    return sum\n",
    "\n",
    "def sum_even_digits(number):\n",
    "    #TODO: implement this function\n",
    "    strs = str(number)\n",
    "    sum = 0\n",
    "    for i in strs:\n",
    "        if int(i) % 2 == 0:\n",
    "            sum += int(i)\n",
    "    return sum\n",
    "\n",
    "def sum_all_digits(number):\n",
    "    #TODO: implement this function\n",
    "    strs = str(number)\n",
    "    sum = 0 \n",
    "    for i in strs:\n",
    "        sum += int(i)\n",
    "    return sum"
   ]
  },
  {
   "cell_type": "code",
   "execution_count": 795,
   "metadata": {},
   "outputs": [
    {
     "data": {
      "text/plain": [
       "82"
      ]
     },
     "execution_count": 795,
     "metadata": {},
     "output_type": "execute_result"
    }
   ],
   "source": [
    "# Consider the series\n",
    "\n",
    "# total = 1/1 + 1/2 + 1/3 + 1/4 + 1/5 .... + 1/N\n",
    "# What is the maximum number of terms added (i.e. the value of N) such that total < 5.0?\n",
    "\n",
    "def check_series():\n",
    "    total = 0\n",
    "    n = 0\n",
    "    while total < 5.0:\n",
    "        n += 1\n",
    "        total += 1 / n\n",
    "    return n - 1\n",
    "\n",
    "check_series()"
   ]
  },
  {
   "cell_type": "code",
   "execution_count": 796,
   "metadata": {},
   "outputs": [],
   "source": [
    "# Write a function called is_increasing that takes a sequence (of numbers) and returns True iff the elements in the array are in (non-strict) increasing order. This means that every element is less than or equal to the next one after it. For example,\n",
    "\n",
    "# for [1, 5, 9] the function should return True\n",
    "# for [3, 3, 4] the function should return True\n",
    "# for [3, 4, 2] the function should return False\n",
    "\n",
    "def is_increasing(sequence):\n",
    "    #TODO: implement this function\n",
    "    return all(sequence[i] <= sequence[i+1] for i in range(len(sequence)-1))"
   ]
  },
  {
   "cell_type": "code",
   "execution_count": 797,
   "metadata": {},
   "outputs": [],
   "source": [
    "# Write a function most_average(numbers) which finds and returns the number in the input that is closest to the average of the numbers. (You can assume that the argument is a sequence of numbers.) By closest, we mean the one that has the smallest absolute difference from the average. You can use the built-in function abs to find the absolute value of a difference. For example, most_average([1, 2, 3, 4, 5]) should return 3 (the average of the numbers in the list is 3.0, and 3 is clearly closest to this). most_average([3, 4, 3, 1]) should also return 3 (the average is 2.75, and 3 is closer to 2.75 than is any other number in the list).\n",
    "\n",
    "\n",
    "def most_average(numbers):\n",
    "    #TODO: implement this function\n",
    "    avg = sum(numbers)/len(numbers)\n",
    "    diff = [abs(x-avg) for x in numbers]\n",
    "    return numbers[diff.index(min(diff))]"
   ]
  },
  {
   "cell_type": "code",
   "execution_count": 798,
   "metadata": {},
   "outputs": [],
   "source": [
    "# Write two functions, smallest_greater(seq, value) and greatest_smaller(seq, value), that take as argument a sequence and a value, and find the smallest element in the sequence that is greater than the given value, and the greatest element in the sequence that is smaller than the given value, respectively.\n",
    "\n",
    "# For example, if the sequence is [13, -3, 22, 14, 2, 18, 17, 6, 9] and the target value is 4, then the smallest greater element is 6 and the greatest smaller element is 2.\n",
    "\n",
    "def smallest_greater(seq, value):\n",
    "    #TODO: implement this function\n",
    "    seqs = sorted(seq)\n",
    "    for i in seqs:\n",
    "        if i > value:\n",
    "            return i\n",
    "\n",
    "\n",
    "def greatest_smaller(seq, value):\n",
    "    #TODO: implement this function\n",
    "    seqs = sorted(seq, reverse=True)\n",
    "    for i in seqs:\n",
    "        if i < value:\n",
    "            return i"
   ]
  },
  {
   "cell_type": "code",
   "execution_count": 799,
   "metadata": {},
   "outputs": [],
   "source": [
    "# If the same value appears more than once in a sequence, we say that all copies of it except the first are duplicates. For example, in [-1, 2, 4, 2, 0, 4], the second 2 and second 4 are duplicates; in the string \"Immaterium\", the 'm' is duplicated twice (but the 'i' is not a duplicate, because 'I' and 'i' are different characters).\n",
    "\n",
    "def count_duplicates(seq):\n",
    "    #TODO: implement this function\n",
    "    count = 0\n",
    "    for i in range(len(seq)):\n",
    "        for j in range(i+1, len(seq)):\n",
    "            if seq[i] == seq[j]:\n",
    "                count += 1\n",
    "                break \n",
    "    return count"
   ]
  },
  {
   "cell_type": "code",
   "execution_count": 800,
   "metadata": {},
   "outputs": [],
   "source": [
    "def count_in_bin(values, lower, upper):\n",
    "    #TODO: implement this function\n",
    "    count = 0\n",
    "    for value in values:\n",
    "        if lower < value <= upper:\n",
    "            count += 1\n",
    "    return count\n",
    "\n",
    "\n",
    "# Write a function histogram(values, dividers) that takes as argument a sequence of values and a sequence of bin dividers, and returns the histogram as a sequence of a suitable type (say, an array) with the counts in each bin. The number of bins is the number of dividers + 1; the first bin has no lower limit and the last bin has no upper limit. As in (a), elements that are equal to one of the dividers are counted in the bin below.\n",
    "def histogram(values, dividers):\n",
    "    #TODO: implement this function\n",
    "    counts = []\n",
    "    for i in range(len(dividers) + 1):\n",
    "        if i == 0:\n",
    "            counts.append(count_in_bin(values, float('-inf'), dividers[i]))\n",
    "        elif i == len(dividers):\n",
    "            counts.append(count_in_bin(values, dividers[i-1], float('inf')))\n",
    "        else:\n",
    "            counts.append(count_in_bin(values, dividers[i-1], dividers[i]))\n",
    "    return counts"
   ]
  },
  {
   "cell_type": "code",
   "execution_count": 801,
   "metadata": {},
   "outputs": [
    {
     "name": "stdout",
     "output_type": "stream",
     "text": [
      "[68, 111, 103]\n",
      "Very Hard Exam\n"
     ]
    }
   ],
   "source": [
    "# In the unicode encoding system (which is used by python 3),  the string \"Dog\" is represented by the following sequence of numbers (character codes):\n",
    "\n",
    "# 68,111,103\n",
    "\n",
    "\n",
    "string = 'Dog'\n",
    "print([ord(c) for c in string])\n",
    "\n",
    "# ord to string\n",
    "print(''.join([chr(c) for c in [86,101,114,121,32,72,97,114,100,32,69,120,97,109]]))"
   ]
  },
  {
   "cell_type": "code",
   "execution_count": 802,
   "metadata": {},
   "outputs": [
    {
     "data": {
      "text/plain": [
       "'rem'"
      ]
     },
     "execution_count": 802,
     "metadata": {},
     "output_type": "execute_result"
    }
   ],
   "source": [
    "s = \"problem\"\n",
    "s[1] + s[5] + s[6]"
   ]
  },
  {
   "cell_type": "code",
   "execution_count": 803,
   "metadata": {},
   "outputs": [
    {
     "data": {
      "text/plain": [
       "'a'"
      ]
     },
     "execution_count": 803,
     "metadata": {},
     "output_type": "execute_result"
    }
   ],
   "source": [
    "def f(s):\n",
    "    for elem1 in s:\n",
    "        for elem2 in s[::-1]:\n",
    "            if elem1 == elem2:\n",
    "                return elem1\n",
    "f(\"abcbdc\")"
   ]
  },
  {
   "cell_type": "code",
   "execution_count": 804,
   "metadata": {},
   "outputs": [
    {
     "data": {
      "text/plain": [
       "True"
      ]
     },
     "execution_count": 804,
     "metadata": {},
     "output_type": "execute_result"
    }
   ],
   "source": [
    "\n",
    "'a way' < 'away'"
   ]
  },
  {
   "cell_type": "code",
   "execution_count": 805,
   "metadata": {},
   "outputs": [
    {
     "data": {
      "text/plain": [
       "False"
      ]
     },
     "execution_count": 805,
     "metadata": {},
     "output_type": "execute_result"
    }
   ],
   "source": [
    "len(\"1.5\" + \"1.5\") == 3"
   ]
  },
  {
   "cell_type": "code",
   "execution_count": 806,
   "metadata": {},
   "outputs": [],
   "source": [
    "def count_capitals(string):\n",
    "    #TODO: implement this function\n",
    "    cnt = 0\n",
    "    for i in string:\n",
    "        if i.isupper():\n",
    "            cnt += 1\n",
    "    return cnt\n",
    "\n",
    "def count(seq, prop):\n",
    "    cnt = 0\n",
    "    for i in seq:\n",
    "        if prop(i):\n",
    "            cnt += 1\n",
    "    return cnt"
   ]
  },
  {
   "cell_type": "code",
   "execution_count": 807,
   "metadata": {},
   "outputs": [
    {
     "name": "stdout",
     "output_type": "stream",
     "text": [
      "9\n",
      "21\n",
      "6\n",
      "18\n"
     ]
    }
   ],
   "source": [
    "def sum_odd_digits(number):\n",
    "    dsum = 0 # digit sum\n",
    "    strs = str(number)\n",
    "    for i in strs:\n",
    "        if int(i) % 2 != 0:\n",
    "            dsum += int(i)\n",
    "    return dsum\n",
    "\n",
    "def sum_even_digits(number):\n",
    "    dsum = 0 # digit sum\n",
    "    strs = str(number)\n",
    "    for i in strs:\n",
    "        if int(i) % 2 == 0:\n",
    "            dsum += int(i)\n",
    "    return dsum\n",
    "\n",
    "print(sum_odd_digits(12345))\n",
    "print(sum_odd_digits(456789))\n",
    "print(sum_even_digits(12345))\n",
    "print(sum_even_digits(456789))\n"
   ]
  },
  {
   "cell_type": "code",
   "execution_count": 808,
   "metadata": {},
   "outputs": [
    {
     "name": "stdout",
     "output_type": "stream",
     "text": [
      "[('ACC', 1), ('AGA', 2), ('CCC', 3), ('CCT', 1), ('GAC', 1), ('GAG', 1)]\n",
      "[('AC', 1), ('AG', 2), ('CC', 4), ('CT', 1), ('GA', 2)]\n",
      "[('A', 1)]\n",
      "[]\n"
     ]
    }
   ],
   "source": [
    "def count_kmer(sequence, k):\n",
    "    \"\"\" counting occurence\n",
    "    of all distinct kmers\"\"\"\n",
    "    distinct_kmers = {}\n",
    "    result = []\n",
    "    for index in range(len(sequence)-k+1):\n",
    "        kmer = sequence[index:index+k]\n",
    "        if kmer not in distinct_kmers:\n",
    "            distinct_kmers[kmer] = 1\n",
    "        else:\n",
    "            distinct_kmers[kmer] += 1\n",
    "    for key, value in distinct_kmers.items():\n",
    "        result.append((key, value))\n",
    "    return result\n",
    "\n",
    "print (sorted(count_kmer(\"AGAGACCCCCT\", 3)))\n",
    "print (sorted(count_kmer(\"AGAGACCCCCT\", 2)))\n",
    "print (sorted(count_kmer(\"A\", 1)))\n",
    "print (sorted(count_kmer(\"A\", 2)))"
   ]
  },
  {
   "cell_type": "code",
   "execution_count": 809,
   "metadata": {},
   "outputs": [
    {
     "name": "stdout",
     "output_type": "stream",
     "text": [
      "Hw wx, Euxwxv!\n",
      "HAL\n",
      "BNLO1730 hr fqdzs!\n",
      "DPNQ1730 jt hsfbu!\n",
      "tvt\n",
      "Brx Frxog Xvh Idfwv Wr Suryh Dqbwklqj Wkdw'v Hyhq Uhprwhob Wuxh.\n",
      "22\n",
      "15\n",
      "10\n",
      "18\n",
      "4\n"
     ]
    }
   ],
   "source": [
    "## a)\n",
    "def caesar_shift(string, shift):\n",
    "    #TODO: implement this function\n",
    "    result = \"\"\n",
    "    for s in string:\n",
    "        if s.isalpha():\n",
    "            if s.isupper():\n",
    "                result += chr((ord(s) + shift - 65) % 26 + 65)\n",
    "            else:\n",
    "                result += chr((ord(s) + shift - 97) % 26 + 97)\n",
    "        else:\n",
    "            result += s\n",
    "    return result\n",
    "\n",
    "## b)\n",
    "def decrypt_5(code):\n",
    "    \"\"\"Prints out the first 5 words decrypted using successively larger shifts\n",
    "    \"\"\"\n",
    "    #TODO: implement this function\n",
    "    # from -5 to -1\n",
    "    for i in range(-5, 0):\n",
    "        print(caesar_shift(code, i))\n",
    "    pass\n",
    "\n",
    "def decrypt_search(code):\n",
    "    \"\"\"Decrypt the message using increasing shift values whilst searching for 40 \n",
    "    common three letter words. Return the shift value that gives the highest number \n",
    "    of different three letter words.\n",
    "    \"\"\"\n",
    "    #TODO: implement this function\n",
    "    # common words = [the,and,for,are,but,not,you,all,any,can, her,was,one,our,out,day,get,has,him,his, how,man,new,now,old,see,two,way,who,boy, did,its,let,put,say,she,too,use,dad,mom]\n",
    "    common_word_list = [\"the\", \"and\", \"for\", \"are\", \"but\", \"not\", \"you\", \"all\", \"any\", \"can\", \"her\", \"was\", \"one\", \"our\", \"out\", \"day\", \"get\", \"has\", \"him\", \"his\", \"how\", \"man\", \"new\", \"now\", \"old\", \"see\", \"two\", \"way\", \"who\", \"boy\", \"did\", \"its\", \"let\", \"put\", \"say\", \"she\", \"too\", \"use\", \"dad\", \"mom\"]\n",
    "    # Return the shift value that gives the highest number of different three letter words.\n",
    "    countings = []\n",
    "    for i in range(-26,26):\n",
    "        result = caesar_shift(code, i)\n",
    "        words = result.split()\n",
    "        count_sum = {}\n",
    "        for word in words:\n",
    "            word = word.lower()\n",
    "            if word in common_word_list:\n",
    "                if word not in count_sum:\n",
    "                    count_sum[word] = 1\n",
    "                else:\n",
    "                    count_sum[word] += 1\n",
    "        # sord by value descending\n",
    "        count_sum = sorted(count_sum.items(), key=lambda x: x[1], reverse=True)\n",
    "        # sum up top 3\n",
    "        top3 = 0\n",
    "        for key, value in count_sum[:3]:\n",
    "            top3 += value\n",
    "        countings.append(top3)\n",
    "        \n",
    "    \n",
    "    return 26 - countings.index(max(countings))\n",
    "                   \n",
    "    \n",
    "\n",
    "    \n",
    "def decrypt_find_e(code):\n",
    "    \"\"\"Decrypt Caesar ciphered message by finding most frequently occuring letter\n",
    "    assume it is an \"e\" and return the corresponding shift.\n",
    "    \"\"\"\n",
    "    #TODO: implement this function\n",
    "    countings = []\n",
    "    for i in range(-26,26):\n",
    "        result = caesar_shift(code, i)\n",
    "        count_e = 0\n",
    "        for s in result:\n",
    "            if s == \"e\" or s == \"E\":\n",
    "                count_e += 1\n",
    "        countings.append(count_e)\n",
    "        \n",
    "    \n",
    "    return 26 - countings.index(max(countings))\n",
    "\n",
    "\n",
    "## a)\n",
    "print(caesar_shift(\"Et tu, Brutus!\", 3))\n",
    "print(caesar_shift(\"IBM\", -1))\n",
    "print(caesar_shift(\"COMP1730 is great!\", 25))\n",
    "print(caesar_shift(\"COMP1730 is great!\", -25))\n",
    "print(caesar_shift(\"uwu\", -27))\n",
    "print(caesar_shift(\"You Could Use Facts To Prove Anything That's Even Remotely True.\", 29))\n",
    "\n",
    "## b)\n",
    "message1 = '''Awnhu pk neoa wjz awnhu pk xaz\n",
    "              Iwgao w iwj dawhpdu, xqp okyewhhu zawz'''\n",
    "message2 = '\"Jcstghipcsxcv xh iwpi etctigpixcv fjpaxin du zcdlatsvt iwpi vgdlh ugdb iwtdgn, egprixrt, rdckxrixdc, phhtgixdc, tggdg pcs wjbxaxipixdc.\" (Gjat 7: Jht p rdadc puitg pc xcstetcstci rapjht id xcigdsjrt p axhi du epgixrjapgh, pc peedhxixkt, pc pbeaxuxrpixdc dg pc xaajhigpixkt fjdipixdc. Ugdb Higjcz & Lwxit, \"Iwt Tatbtcih du Hinat\".)'\n",
    "message3 = \"Cywo cmsoxdscdc gybu cy rkbn drobo sc xy dswo vopd pyb cobsyec drsxusxq. (kddbsledon dy Pbkxmsc Mbsmu)\"\n",
    "print(decrypt_search(message1))\n",
    "print(decrypt_search(message2))\n",
    "print(decrypt_search(message3))\n",
    "print(decrypt_find_e(message1))\n",
    "print(decrypt_find_e(message2))"
   ]
  },
  {
   "cell_type": "code",
   "execution_count": 810,
   "metadata": {},
   "outputs": [
    {
     "name": "stdout",
     "output_type": "stream",
     "text": [
      "ogday\n",
      "atchscray\n",
      "isyay\n",
      "appleyay\n",
      "1287643\n"
     ]
    }
   ],
   "source": [
    "# If a word begins with a vowel, append \"yay\" to the end of the word.\n",
    "\n",
    "# If a word begins with a consonant, remove all the consonants from the beginning up to the first vowel and append them to the end of the word. Finally, append \"ay\" to the end of the word.\n",
    "\n",
    "def to_pig_latin(string):\n",
    "    #TODO: implement this function\n",
    "    # if is not a word, return itself\n",
    "\n",
    "    if not string.isalpha():\n",
    "        return string\n",
    "    \n",
    "    result = \"\"\n",
    "    \n",
    "     # the initial consonant sound is transposed to the end of the word\n",
    "    if string[0] not in \"aeiou\":\n",
    "        for i in range(len(string)):\n",
    "            if string[i] in \"aeiou\":\n",
    "                result = string[i:] + string[:i] + \"ay\"\n",
    "                break\n",
    "    else:\n",
    "        result = string + \"yay\"\n",
    "    return result\n",
    "\n",
    "print(to_pig_latin('dog'))\n",
    "print(to_pig_latin('scratch'))\n",
    "print(to_pig_latin('is'))\n",
    "print(to_pig_latin('apple'))\n",
    "print(to_pig_latin('1287643'))"
   ]
  },
  {
   "cell_type": "code",
   "execution_count": 811,
   "metadata": {},
   "outputs": [
    {
     "data": {
      "image/png": "[encoded data removed]",
      "text/plain": [
       "<Figure size 640x480 with 1 Axes>"
      ]
     },
     "metadata": {},
     "output_type": "display_data"
    }
   ],
   "source": [
    "# Given a function p(N) <= 5/(6*N), q(N) <= 1/4. N is from {4,8,12,16,20,24,28,32,36,40}. \n",
    "# Plot the function p(N) and q(N) in the same figure. Use different colors for the two functions and add a legend to the figure.\n",
    "\n",
    "import matplotlib.pyplot as plt\n",
    "import numpy as np\n",
    "\n",
    "N = np.array([4, 8, 12, 16, 20, 24, 28, 32, 36, 40])\n",
    "\n",
    "p = 5 / (6 * N)\n",
    "q = 0.25 * np.ones(len(N))\n",
    "\n",
    "plt.plot(N, p, label='p(N)')\n",
    "plt.plot(N, q, label='q(N)')\n",
    "\n",
    "plt.xlabel('N')\n",
    "plt.ylabel('Function values')\n",
    "plt.title('Plot of p(N) and q(N)')\n",
    "plt.legend()\n",
    "\n",
    "plt.show()"
   ]
  },
  {
   "cell_type": "code",
   "execution_count": 812,
   "metadata": {},
   "outputs": [
    {
     "data": {
      "text/plain": [
       "6"
      ]
     },
     "execution_count": 812,
     "metadata": {},
     "output_type": "execute_result"
    }
   ],
   "source": [
    "max(1,6)"
   ]
  },
  {
   "cell_type": "code",
   "execution_count": 813,
   "metadata": {},
   "outputs": [
    {
     "data": {
      "text/plain": [
       "[8, 7, 5, 4, 3, 2, 1]"
      ]
     },
     "execution_count": 813,
     "metadata": {},
     "output_type": "execute_result"
    }
   ],
   "source": [
    "list1=[1,2,3,4,5]\n",
    "list2=list1\n",
    "list3=list2\n",
    "list1.extend([6,7,8])\n",
    "list2.reverse()\n",
    "list3.remove(6)\n",
    "\n",
    "list1"
   ]
  },
  {
   "cell_type": "code",
   "execution_count": 814,
   "metadata": {},
   "outputs": [
    {
     "data": {
      "text/plain": [
       "617"
      ]
     },
     "execution_count": 814,
     "metadata": {},
     "output_type": "execute_result"
    }
   ],
   "source": [
    "lsit = [(n*n) for n in range(1234) if (n*n)%2==0]\n",
    "len(lsit) "
   ]
  },
  {
   "cell_type": "code",
   "execution_count": 815,
   "metadata": {},
   "outputs": [],
   "source": [
    "def perfect_shuffle_in_place(a_list):\n",
    "    #TODO: implement this function\n",
    "    perfect_list = a_list.copy()\n",
    "    # split into two lists\n",
    "    list1 = perfect_list[0:len(perfect_list)//2]\n",
    "    list2 = perfect_list[len(perfect_list)//2:]\n",
    "    # shuffle\n",
    "    perfect_list = []\n",
    "    for i in range(len(list1)):\n",
    "        perfect_list.append(list1[i])\n",
    "        perfect_list.append(list2[i])\n",
    "    a_list[:] = perfect_list\n",
    "\n",
    "\n",
    "def count_shuffles(a_list):\n",
    "    #TODO: imeplement this function\n",
    "    count = 0\n",
    "    perfect_list = a_list.copy()\n",
    "    while True:\n",
    "        count += 1\n",
    "        perfect_shuffle_in_place(perfect_list)\n",
    "        if perfect_list == a_list:\n",
    "            break\n",
    "    return count"
   ]
  },
  {
   "cell_type": "code",
   "execution_count": 816,
   "metadata": {},
   "outputs": [],
   "source": [
    "def nesting_depth(a_list):\n",
    "    #TODO: imeplement this function\n",
    "    max_depth = 0\n",
    "    for e in a_list:\n",
    "        if type(e) == list:\n",
    "            depth = nesting_depth(e)\n",
    "            if depth > max_depth:\n",
    "                max_depth = depth\n",
    "    return max_depth "
   ]
  },
  {
   "cell_type": "code",
   "execution_count": 817,
   "metadata": {},
   "outputs": [
    {
     "data": {
      "text/plain": [
       "['b', 'c']"
      ]
     },
     "execution_count": 817,
     "metadata": {},
     "output_type": "execute_result"
    }
   ],
   "source": [
    "a_dict = { 'a' : ['a'],  'b' : ['b'] }\n",
    "a_dict['a'] = a_dict.copy()\n",
    "a_dict['c'] = a_dict\n",
    "a_dict['a']['b'].append('c')\n",
    "a_dict['c']['a']['b'] = []\n",
    "\n",
    "\n",
    "a_dict['c']['b']"
   ]
  },
  {
   "cell_type": "code",
   "execution_count": 818,
   "metadata": {},
   "outputs": [
    {
     "name": "stdout",
     "output_type": "stream",
     "text": [
      "行列式的值为: 0\n"
     ]
    }
   ],
   "source": [
    "import numpy as np\n",
    "\n",
    "# 三个列向量，假设为 a, b, c\n",
    "a = np.array([1, 2, 3])\n",
    "b = np.array([4, 5, 6])\n",
    "c = np.array([7, 8, 9])\n",
    "\n",
    "# 构建 3x3 矩阵\n",
    "matrix = np.column_stack((a, b, c))\n",
    "\n",
    "# 使用叉乘和点乘计算行列式\n",
    "determinant = np.dot(a, np.cross(b, c))\n",
    "print(\"行列式的值为:\", determinant)"
   ]
  },
  {
   "cell_type": "code",
   "execution_count": 819,
   "metadata": {},
   "outputs": [],
   "source": [
    "def invert_dictionary(d):\n",
    "    d_inv = {}\n",
    "    for key, value in d.items():\n",
    "        if value not in d_inv:\n",
    "            d_inv[value] = key\n",
    "        else:\n",
    "            d_inv[value] = key\n",
    "    return d_inv"
   ]
  },
  {
   "cell_type": "code",
   "execution_count": 820,
   "metadata": {},
   "outputs": [],
   "source": [
    "def invert_dictionary(d):\n",
    "    d_inv = {}\n",
    "    for key, value in d.items():\n",
    "        if value not in d_inv:\n",
    "            d_inv[value] = key\n",
    "        else:\n",
    "            d_inv[value] = key\n",
    "    return d_inv"
   ]
  },
  {
   "cell_type": "code",
   "execution_count": 821,
   "metadata": {},
   "outputs": [
    {
     "data": {
      "text/plain": [
       "[['alice'], ['bob'], ['carol'], ['dave'], ['eve']]"
      ]
     },
     "execution_count": 821,
     "metadata": {},
     "output_type": "execute_result"
    }
   ],
   "source": [
    "def closed_sets(permutation):\n",
    "    #TODO: implement this function\n",
    "    checked = []\n",
    "    result = []\n",
    "    for key in permutation.keys():\n",
    "        if key not in checked:\n",
    "            current_res = [key]\n",
    "            current_search = key\n",
    "            while current_search in permutation.keys() and current_search not in current_res:\n",
    "                checked.append(current_search)\n",
    "                nextkey = permutation[current_search]\n",
    "                current_res.append(nextkey)\n",
    "                current_search = nextkey\n",
    "            result.append(current_res)\n",
    "    return result\n",
    "\n",
    "p1 = { 'alice' : 'carol', 'bob' : 'bob', 'carol' : 'eve',\n",
    "       'dave' : 'dave', 'eve' : 'alice' }\n",
    "closed_sets(p1)"
   ]
  },
  {
   "cell_type": "code",
   "execution_count": 822,
   "metadata": {},
   "outputs": [],
   "source": [
    "def count_repetitions(string, substring):\n",
    "    '''\n",
    "    Count the number of repetitions of substring in string. Both\n",
    "    arguments must be strings.\n",
    "    '''\n",
    "    return string.count(substring)"
   ]
  },
  {
   "cell_type": "code",
   "execution_count": 823,
   "metadata": {},
   "outputs": [
    {
     "name": "stdout",
     "output_type": "stream",
     "text": [
      "2\n"
     ]
    }
   ],
   "source": [
    "print(count_repetitions(\"aabsabs\",\"abs\"))"
   ]
  },
  {
   "cell_type": "code",
   "execution_count": 824,
   "metadata": {},
   "outputs": [],
   "source": [
    "def remove_substring_everywhere(string, substring):\n",
    "    '''\n",
    "    Remove all occurrences of substring from string, and return\n",
    "    the resulting string. Both arguments must be strings.\n",
    "    '''\n",
    "    return string.replace(substring, \"\")"
   ]
  },
  {
   "cell_type": "code",
   "execution_count": 825,
   "metadata": {},
   "outputs": [
    {
     "name": "stdout",
     "output_type": "stream",
     "text": [
      "a\n"
     ]
    }
   ],
   "source": [
    "print(remove_substring_everywhere(\"aabsabs\",\"abs\"))"
   ]
  },
  {
   "cell_type": "code",
   "execution_count": 826,
   "metadata": {},
   "outputs": [
    {
     "name": "stdout",
     "output_type": "stream",
     "text": [
      "[3, 2, 1] [3, 2, 1] [1, 2, 3]\n"
     ]
    }
   ],
   "source": [
    "\n",
    "def funA(alist):\n",
    "    if len(alist) == 0:\n",
    "        return alist\n",
    "    else:\n",
    "        return funA(alist[1:]) + [alist[0]]\n",
    "\n",
    "def funB(alist):\n",
    "    if len(alist) > 0:\n",
    "        x = alist.pop(-1)\n",
    "        alist = funB(alist)\n",
    "        alist.insert(0,x)\n",
    "    return alist\n",
    "\n",
    "a = [1,2,3]\n",
    "b = funB(a)\n",
    "c = funA(a)\n",
    "print(a,b,c)"
   ]
  },
  {
   "cell_type": "code",
   "execution_count": 827,
   "metadata": {},
   "outputs": [
    {
     "name": "stdout",
     "output_type": "stream",
     "text": [
      "2\n",
      "4\n"
     ]
    }
   ],
   "source": [
    "def f(x):\n",
    "    print(y)\n",
    "    if y < 1:\n",
    "        z = 1\n",
    "        return x ** z\n",
    "    else:\n",
    "        return x ** y\n",
    "\n",
    "y = 2\n",
    "print(f(2))"
   ]
  },
  {
   "cell_type": "code",
   "execution_count": 828,
   "metadata": {},
   "outputs": [
    {
     "name": "stdout",
     "output_type": "stream",
     "text": [
      "2\n",
      "4\n"
     ]
    }
   ],
   "source": [
    "def f(x):\n",
    "    global y\n",
    "    print(y)\n",
    "    if y < 1:\n",
    "        y = 1\n",
    "    return x ** y\n",
    "\n",
    "y = 2\n",
    "print(f(2))"
   ]
  },
  {
   "cell_type": "code",
   "execution_count": 829,
   "metadata": {},
   "outputs": [
    {
     "data": {
      "text/plain": [
       "{\"['a', 'b']\": 1, \"['a', 'b', 'c']\": 2}"
      ]
     },
     "execution_count": 829,
     "metadata": {},
     "output_type": "execute_result"
    }
   ],
   "source": [
    "example_set = [\"a\", \"b\", \"d\",\"a\", \"b\", \"c\", \"d\", \"a\", \"b\", \"c\", \"d\"]\n",
    "\n",
    "def is_trending(left, right):\n",
    "    return left < right\n",
    "\n",
    "def is_same_element(left, right):\n",
    "    return str(left) == str(right)\n",
    "\n",
    "def find_trending_group(eg_set):\n",
    "    results = []\n",
    "    current = []\n",
    "    for i in range(len(eg_set)-1):\n",
    "        if is_trending(eg_set[i], eg_set[i+1]):\n",
    "            current.append(eg_set[i])\n",
    "        else:\n",
    "            results.append(current)\n",
    "            current = []\n",
    "    results.append(current)\n",
    "    return results\n",
    "\n",
    "def find_longest_result(results):\n",
    "    lens = [len(x) for x in results]\n",
    "    return results[lens.index(max(lens))]\n",
    "\n",
    "def find_same_result(results):\n",
    "    counter = {}\n",
    "    for result in results:\n",
    "        if str(result) not in counter.keys():\n",
    "            counter[str(result)] = 0\n",
    "        counter[str(result)] += 1\n",
    "    return counter\n",
    "\n",
    "results = find_trending_group(example_set)\n",
    "find_longest_result(results)\n",
    "\n",
    "find_same_result(results)"
   ]
  },
  {
   "cell_type": "code",
   "execution_count": 830,
   "metadata": {},
   "outputs": [
    {
     "data": {
      "text/plain": [
       "9"
      ]
     },
     "execution_count": 830,
     "metadata": {},
     "output_type": "execute_result"
    }
   ],
   "source": [
    "x = 1\n",
    "y = -3\n",
    "def funA( y ):\n",
    "    if x >= 0:\n",
    "        return y\n",
    "    else:\n",
    "        return -y\n",
    "\n",
    "def funB( x ):\n",
    "    return x * funA( y ) # y * y_ \n",
    "\n",
    "funB(y)"
   ]
  },
  {
   "cell_type": "code",
   "execution_count": 834,
   "metadata": {},
   "outputs": [
    {
     "data": {
      "text/plain": [
       "[2, 2, 4, 5, 5, 5]"
      ]
     },
     "execution_count": 834,
     "metadata": {},
     "output_type": "execute_result"
    }
   ],
   "source": [
    "test_list = [1,2,2,4,5,5,5]\n",
    "\n",
    "test_list[1:]"
   ]
  }
 ],
 "metadata": {
  "kernelspec": {
   "display_name": "Python 3 (ipykernel)",
   "language": "python",
   "name": "python3"
  },
  "language_info": {
   "codemirror_mode": {
    "name": "ipython",
    "version": 3
   },
   "file_extension": ".py",
   "mimetype": "text/x-python",
   "name": "python",
   "nbconvert_exporter": "python",
   "pygments_lexer": "ipython3",
   "version": "3.10.13"
  }
 },
 "nbformat": 4,
 "nbformat_minor": 4
}
