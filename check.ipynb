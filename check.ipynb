{
 "cells": [
  {
   "cell_type": "code",
   "execution_count": 1,
   "metadata": {},
   "outputs": [],
   "source": [
    "# import all common packages\n",
    "import pandas as pd\n",
    "import numpy as np\n",
    "import matplotlib.pyplot as plt\n",
    "import math\n",
    "import os\n",
    "import sys"
   ]
  },
  {
   "cell_type": "code",
   "execution_count": null,
   "metadata": {},
   "outputs": [],
   "source": [
    "def sum_odd_digits(number):\n",
    "    #TODO: implement this function\n",
    "    strs = str(number)\n",
    "    sum = 0\n",
    "    for i in strs:\n",
    "        if int(i) % 2 != 0:\n",
    "            sum += int(i)\n",
    "    return sum\n",
    "\n",
    "def sum_even_digits(number):\n",
    "    #TODO: implement this function\n",
    "    strs = str(number)\n",
    "    sum = 0\n",
    "    for i in strs:\n",
    "        if int(i) % 2 == 0:\n",
    "            sum += int(i)\n",
    "    return sum\n",
    "\n",
    "def sum_all_digits(number):\n",
    "    #TODO: implement this function\n",
    "    strs = str(number)\n",
    "    sum = 0\n",
    "    for i in strs:\n",
    "        sum += int(i)\n",
    "    return sum"
   ]
  },
  {
   "cell_type": "code",
   "execution_count": 14,
   "metadata": {},
   "outputs": [
    {
     "data": {
      "text/plain": [
       "82"
      ]
     },
     "execution_count": 14,
     "metadata": {},
     "output_type": "execute_result"
    }
   ],
   "source": [
    "# Consider the series\n",
    "\n",
    "# total = 1/1 + 1/2 + 1/3 + 1/4 + 1/5 .... + 1/N\n",
    "# What is the maximum number of terms added (i.e. the value of N) such that total < 5.0?\n",
    "\n",
    "def check_series():\n",
    "    total = 0\n",
    "    n = 0\n",
    "    while total < 5.0:\n",
    "        n += 1\n",
    "        total += 1 / n\n",
    "    return n - 1\n",
    "\n",
    "check_series()"
   ]
  }
 ],
 "metadata": {
  "kernelspec": {
   "display_name": "ML_pyenv",
   "language": "python",
   "name": "python3"
  },
  "language_info": {
   "codemirror_mode": {
    "name": "ipython",
    "version": 3
   },
   "file_extension": ".py",
   "mimetype": "text/x-python",
   "name": "python",
   "nbconvert_exporter": "python",
   "pygments_lexer": "ipython3",
   "version": "3.10.11"
  },
  "orig_nbformat": 4
 },
 "nbformat": 4,
 "nbformat_minor": 2
}
