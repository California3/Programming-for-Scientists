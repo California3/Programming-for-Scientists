{
 "cells": [
  {
   "cell_type": "code",
   "execution_count": 306,
   "metadata": {},
   "outputs": [],
   "source": [
    "# import all common packages\n",
    "import pandas as pd\n",
    "import numpy as np\n",
    "# import matplotlib.pyplot as plt\n",
    "import math\n",
    "import os\n",
    "import sys"
   ]
  },
  {
   "cell_type": "code",
   "execution_count": 307,
   "metadata": {},
   "outputs": [
    {
     "name": "stdout",
     "output_type": "stream",
     "text": [
      "A B A "
     ]
    }
   ],
   "source": [
    "def funA(x):\n",
    "    print(\"A\", end=' ')\n",
    "    return 2*x\n",
    "\n",
    "def funB( y ):\n",
    "    print(\"B\", end=' ')\n",
    "    return funA( y ) + 1\n",
    "\n",
    "result = funB(2 + funA(1))"
   ]
  },
  {
   "cell_type": "code",
   "execution_count": 308,
   "metadata": {},
   "outputs": [],
   "source": [
    "def sum_odd_digits(number):\n",
    "    #TODO: implement this function\n",
    "    strs = str(number)\n",
    "    sum = 0\n",
    "    for i in strs:\n",
    "        if int(i) % 2 != 0:\n",
    "            sum += int(i)\n",
    "    return sum\n",
    "\n",
    "def sum_even_digits(number):\n",
    "    #TODO: implement this function\n",
    "    strs = str(number)\n",
    "    sum = 0\n",
    "    for i in strs:\n",
    "        if int(i) % 2 == 0:\n",
    "            sum += int(i)\n",
    "    return sum\n",
    "\n",
    "def sum_all_digits(number):\n",
    "    #TODO: implement this function\n",
    "    strs = str(number)\n",
    "    sum = 0 \n",
    "    for i in strs:\n",
    "        sum += int(i)\n",
    "    return sum"
   ]
  },
  {
   "cell_type": "code",
   "execution_count": 309,
   "metadata": {},
   "outputs": [
    {
     "data": {
      "text/plain": [
       "82"
      ]
     },
     "execution_count": 309,
     "metadata": {},
     "output_type": "execute_result"
    }
   ],
   "source": [
    "# Consider the series\n",
    "\n",
    "# total = 1/1 + 1/2 + 1/3 + 1/4 + 1/5 .... + 1/N\n",
    "# What is the maximum number of terms added (i.e. the value of N) such that total < 5.0?\n",
    "\n",
    "def check_series():\n",
    "    total = 0\n",
    "    n = 0\n",
    "    while total < 5.0:\n",
    "        n += 1\n",
    "        total += 1 / n\n",
    "    return n - 1\n",
    "\n",
    "check_series()"
   ]
  },
  {
   "cell_type": "code",
   "execution_count": 310,
   "metadata": {},
   "outputs": [],
   "source": [
    "# Write a function called is_increasing that takes a sequence (of numbers) and returns True iff the elements in the array are in (non-strict) increasing order. This means that every element is less than or equal to the next one after it. For example,\n",
    "\n",
    "# for [1, 5, 9] the function should return True\n",
    "# for [3, 3, 4] the function should return True\n",
    "# for [3, 4, 2] the function should return False\n",
    "\n",
    "def is_increasing(sequence):\n",
    "    #TODO: implement this function\n",
    "    return all(sequence[i] <= sequence[i+1] for i in range(len(sequence)-1))"
   ]
  },
  {
   "cell_type": "code",
   "execution_count": 311,
   "metadata": {},
   "outputs": [],
   "source": [
    "# Write a function most_average(numbers) which finds and returns the number in the input that is closest to the average of the numbers. (You can assume that the argument is a sequence of numbers.) By closest, we mean the one that has the smallest absolute difference from the average. You can use the built-in function abs to find the absolute value of a difference. For example, most_average([1, 2, 3, 4, 5]) should return 3 (the average of the numbers in the list is 3.0, and 3 is clearly closest to this). most_average([3, 4, 3, 1]) should also return 3 (the average is 2.75, and 3 is closer to 2.75 than is any other number in the list).\n",
    "\n",
    "\n",
    "def most_average(numbers):\n",
    "    #TODO: implement this function\n",
    "    avg = sum(numbers)/len(numbers)\n",
    "    diff = [abs(x-avg) for x in numbers]\n",
    "    return numbers[diff.index(min(diff))]"
   ]
  },
  {
   "cell_type": "code",
   "execution_count": 312,
   "metadata": {},
   "outputs": [],
   "source": [
    "# Write two functions, smallest_greater(seq, value) and greatest_smaller(seq, value), that take as argument a sequence and a value, and find the smallest element in the sequence that is greater than the given value, and the greatest element in the sequence that is smaller than the given value, respectively.\n",
    "\n",
    "# For example, if the sequence is [13, -3, 22, 14, 2, 18, 17, 6, 9] and the target value is 4, then the smallest greater element is 6 and the greatest smaller element is 2.\n",
    "\n",
    "def smallest_greater(seq, value):\n",
    "    #TODO: implement this function\n",
    "    seqs = sorted(seq)\n",
    "    for i in seqs:\n",
    "        if i > value:\n",
    "            return i\n",
    "\n",
    "\n",
    "def greatest_smaller(seq, value):\n",
    "    #TODO: implement this function\n",
    "    seqs = sorted(seq, reverse=True)\n",
    "    for i in seqs:\n",
    "        if i < value:\n",
    "            return i"
   ]
  },
  {
   "cell_type": "code",
   "execution_count": 313,
   "metadata": {},
   "outputs": [],
   "source": [
    "# If the same value appears more than once in a sequence, we say that all copies of it except the first are duplicates. For example, in [-1, 2, 4, 2, 0, 4], the second 2 and second 4 are duplicates; in the string \"Immaterium\", the 'm' is duplicated twice (but the 'i' is not a duplicate, because 'I' and 'i' are different characters).\n",
    "\n",
    "def count_duplicates(seq):\n",
    "    #TODO: implement this function\n",
    "    count = 0\n",
    "    for i in range(len(seq)):\n",
    "        for j in range(i+1, len(seq)):\n",
    "            if seq[i] == seq[j]:\n",
    "                count += 1\n",
    "                break \n",
    "    return count"
   ]
  },
  {
   "cell_type": "code",
   "execution_count": 314,
   "metadata": {},
   "outputs": [],
   "source": [
    "def count_in_bin(values, lower, upper):\n",
    "    #TODO: implement this function\n",
    "    count = 0\n",
    "    for value in values:\n",
    "        if lower < value <= upper:\n",
    "            count += 1\n",
    "    return count\n",
    "\n",
    "\n",
    "# Write a function histogram(values, dividers) that takes as argument a sequence of values and a sequence of bin dividers, and returns the histogram as a sequence of a suitable type (say, an array) with the counts in each bin. The number of bins is the number of dividers + 1; the first bin has no lower limit and the last bin has no upper limit. As in (a), elements that are equal to one of the dividers are counted in the bin below.\n",
    "def histogram(values, dividers):\n",
    "    #TODO: implement this function\n",
    "    counts = []\n",
    "    for i in range(len(dividers) + 1):\n",
    "        if i == 0:\n",
    "            counts.append(count_in_bin(values, float('-inf'), dividers[i]))\n",
    "        elif i == len(dividers):\n",
    "            counts.append(count_in_bin(values, dividers[i-1], float('inf')))\n",
    "        else:\n",
    "            counts.append(count_in_bin(values, dividers[i-1], dividers[i]))\n",
    "    return counts"
   ]
  },
  {
   "cell_type": "code",
   "execution_count": 315,
   "metadata": {},
   "outputs": [
    {
     "name": "stdout",
     "output_type": "stream",
     "text": [
      "[68, 111, 103]\n",
      "Very Hard Exam\n"
     ]
    }
   ],
   "source": [
    "# In the unicode encoding system (which is used by python 3),  the string \"Dog\" is represented by the following sequence of numbers (character codes):\n",
    "\n",
    "# 68,111,103\n",
    "\n",
    "\n",
    "string = 'Dog'\n",
    "print([ord(c) for c in string])\n",
    "\n",
    "# ord to string\n",
    "print(''.join([chr(c) for c in [86,101,114,121,32,72,97,114,100,32,69,120,97,109]]))"
   ]
  },
  {
   "cell_type": "code",
   "execution_count": 316,
   "metadata": {},
   "outputs": [
    {
     "data": {
      "text/plain": [
       "'rem'"
      ]
     },
     "execution_count": 316,
     "metadata": {},
     "output_type": "execute_result"
    }
   ],
   "source": [
    "s = \"problem\"\n",
    "s[1] + s[5] + s[6]"
   ]
  },
  {
   "cell_type": "code",
   "execution_count": 317,
   "metadata": {},
   "outputs": [
    {
     "data": {
      "text/plain": [
       "'a'"
      ]
     },
     "execution_count": 317,
     "metadata": {},
     "output_type": "execute_result"
    }
   ],
   "source": [
    "def f(s):\n",
    "    for elem1 in s:\n",
    "        for elem2 in s[::-1]:\n",
    "            if elem1 == elem2:\n",
    "                return elem1\n",
    "f(\"abcbdc\")"
   ]
  },
  {
   "cell_type": "code",
   "execution_count": 318,
   "metadata": {},
   "outputs": [
    {
     "data": {
      "text/plain": [
       "True"
      ]
     },
     "execution_count": 318,
     "metadata": {},
     "output_type": "execute_result"
    }
   ],
   "source": [
    "\n",
    "'a way' < 'away'"
   ]
  },
  {
   "cell_type": "code",
   "execution_count": 319,
   "metadata": {},
   "outputs": [
    {
     "data": {
      "text/plain": [
       "False"
      ]
     },
     "execution_count": 319,
     "metadata": {},
     "output_type": "execute_result"
    }
   ],
   "source": [
    "len(\"1.5\" + \"1.5\") == 3"
   ]
  },
  {
   "cell_type": "code",
   "execution_count": 320,
   "metadata": {},
   "outputs": [],
   "source": [
    "def count_capitals(string):\n",
    "    #TODO: implement this function\n",
    "    cnt = 0\n",
    "    for i in string:\n",
    "        if i.isupper():\n",
    "            cnt += 1\n",
    "    return cnt\n",
    "\n",
    "def count(seq, prop):\n",
    "    cnt = 0\n",
    "    for i in seq:\n",
    "        if prop(i):\n",
    "            cnt += 1\n",
    "    return cnt"
   ]
  },
  {
   "cell_type": "code",
   "execution_count": 321,
   "metadata": {},
   "outputs": [
    {
     "name": "stdout",
     "output_type": "stream",
     "text": [
      "9\n",
      "21\n",
      "6\n",
      "18\n"
     ]
    }
   ],
   "source": [
    "def sum_odd_digits(number):\n",
    "    dsum = 0 # digit sum\n",
    "    strs = str(number)\n",
    "    for i in strs:\n",
    "        if int(i) % 2 != 0:\n",
    "            dsum += int(i)\n",
    "    return dsum\n",
    "\n",
    "def sum_even_digits(number):\n",
    "    dsum = 0 # digit sum\n",
    "    strs = str(number)\n",
    "    for i in strs:\n",
    "        if int(i) % 2 == 0:\n",
    "            dsum += int(i)\n",
    "    return dsum\n",
    "\n",
    "print(sum_odd_digits(12345))\n",
    "print(sum_odd_digits(456789))\n",
    "print(sum_even_digits(12345))\n",
    "print(sum_even_digits(456789))\n"
   ]
  },
  {
   "cell_type": "code",
   "execution_count": 322,
   "metadata": {},
   "outputs": [
    {
     "name": "stdout",
     "output_type": "stream",
     "text": [
      "[('ACC', 1), ('AGA', 2), ('CCC', 3), ('CCT', 1), ('GAC', 1), ('GAG', 1)]\n",
      "[('AC', 1), ('AG', 2), ('CC', 4), ('CT', 1), ('GA', 2)]\n",
      "[('A', 1)]\n",
      "[]\n"
     ]
    }
   ],
   "source": [
    "def count_kmer(sequence, k):\n",
    "    \"\"\" counting occurence\n",
    "    of all distinct kmers\"\"\"\n",
    "    distinct_kmers = {}\n",
    "    result = []\n",
    "    for index in range(len(sequence)-k+1):\n",
    "        kmer = sequence[index:index+k]\n",
    "        if kmer not in distinct_kmers:\n",
    "            distinct_kmers[kmer] = 1\n",
    "        else:\n",
    "            distinct_kmers[kmer] += 1\n",
    "    for key, value in distinct_kmers.items():\n",
    "        result.append((key, value))\n",
    "    return result\n",
    "\n",
    "print (sorted(count_kmer(\"AGAGACCCCCT\", 3)))\n",
    "print (sorted(count_kmer(\"AGAGACCCCCT\", 2)))\n",
    "print (sorted(count_kmer(\"A\", 1)))\n",
    "print (sorted(count_kmer(\"A\", 2)))"
   ]
  },
  {
   "cell_type": "code",
   "execution_count": 323,
   "metadata": {},
   "outputs": [
    {
     "name": "stdout",
     "output_type": "stream",
     "text": [
      "Hw wx, Euxwxv!\n",
      "HAL\n",
      "BNLO1730 hr fqdzs!\n",
      "DPNQ1730 jt hsfbu!\n",
      "tvt\n",
      "Brx Frxog Xvh Idfwv Wr Suryh Dqbwklqj Wkdw'v Hyhq Uhprwhob Wuxh.\n",
      "22\n",
      "15\n",
      "10\n",
      "18\n",
      "4\n"
     ]
    }
   ],
   "source": [
    "## a)\n",
    "def caesar_shift(string, shift):\n",
    "    #TODO: implement this function\n",
    "    result = \"\"\n",
    "    for s in string:\n",
    "        if s.isalpha():\n",
    "            if s.isupper():\n",
    "                result += chr((ord(s) + shift - 65) % 26 + 65)\n",
    "            else:\n",
    "                result += chr((ord(s) + shift - 97) % 26 + 97)\n",
    "        else:\n",
    "            result += s\n",
    "    return result\n",
    "\n",
    "## b)\n",
    "def decrypt_5(code):\n",
    "    \"\"\"Prints out the first 5 words decrypted using successively larger shifts\n",
    "    \"\"\"\n",
    "    #TODO: implement this function\n",
    "    # from -5 to -1\n",
    "    for i in range(-5, 0):\n",
    "        print(caesar_shift(code, i))\n",
    "    pass\n",
    "\n",
    "def decrypt_search(code):\n",
    "    \"\"\"Decrypt the message using increasing shift values whilst searching for 40 \n",
    "    common three letter words. Return the shift value that gives the highest number \n",
    "    of different three letter words.\n",
    "    \"\"\"\n",
    "    #TODO: implement this function\n",
    "    # common words = [the,and,for,are,but,not,you,all,any,can, her,was,one,our,out,day,get,has,him,his, how,man,new,now,old,see,two,way,who,boy, did,its,let,put,say,she,too,use,dad,mom]\n",
    "    common_word_list = [\"the\", \"and\", \"for\", \"are\", \"but\", \"not\", \"you\", \"all\", \"any\", \"can\", \"her\", \"was\", \"one\", \"our\", \"out\", \"day\", \"get\", \"has\", \"him\", \"his\", \"how\", \"man\", \"new\", \"now\", \"old\", \"see\", \"two\", \"way\", \"who\", \"boy\", \"did\", \"its\", \"let\", \"put\", \"say\", \"she\", \"too\", \"use\", \"dad\", \"mom\"]\n",
    "    # Return the shift value that gives the highest number of different three letter words.\n",
    "    countings = []\n",
    "    for i in range(-26,26):\n",
    "        result = caesar_shift(code, i)\n",
    "        words = result.split()\n",
    "        count_sum = {}\n",
    "        for word in words:\n",
    "            word = word.lower()\n",
    "            if word in common_word_list:\n",
    "                if word not in count_sum:\n",
    "                    count_sum[word] = 1\n",
    "                else:\n",
    "                    count_sum[word] += 1\n",
    "        # sord by value descending\n",
    "        count_sum = sorted(count_sum.items(), key=lambda x: x[1], reverse=True)\n",
    "        # sum up top 3\n",
    "        top3 = 0\n",
    "        for key, value in count_sum[:3]:\n",
    "            top3 += value\n",
    "        countings.append(top3)\n",
    "        \n",
    "    \n",
    "    return 26 - countings.index(max(countings))\n",
    "                   \n",
    "    \n",
    "\n",
    "    \n",
    "def decrypt_find_e(code):\n",
    "    \"\"\"Decrypt Caesar ciphered message by finding most frequently occuring letter\n",
    "    assume it is an \"e\" and return the corresponding shift.\n",
    "    \"\"\"\n",
    "    #TODO: implement this function\n",
    "    countings = []\n",
    "    for i in range(-26,26):\n",
    "        result = caesar_shift(code, i)\n",
    "        count_e = 0\n",
    "        for s in result:\n",
    "            if s == \"e\" or s == \"E\":\n",
    "                count_e += 1\n",
    "        countings.append(count_e)\n",
    "        \n",
    "    \n",
    "    return 26 - countings.index(max(countings))\n",
    "\n",
    "\n",
    "## a)\n",
    "print(caesar_shift(\"Et tu, Brutus!\", 3))\n",
    "print(caesar_shift(\"IBM\", -1))\n",
    "print(caesar_shift(\"COMP1730 is great!\", 25))\n",
    "print(caesar_shift(\"COMP1730 is great!\", -25))\n",
    "print(caesar_shift(\"uwu\", -27))\n",
    "print(caesar_shift(\"You Could Use Facts To Prove Anything That's Even Remotely True.\", 29))\n",
    "\n",
    "## b)\n",
    "message1 = '''Awnhu pk neoa wjz awnhu pk xaz\n",
    "              Iwgao w iwj dawhpdu, xqp okyewhhu zawz'''\n",
    "message2 = '\"Jcstghipcsxcv xh iwpi etctigpixcv fjpaxin du zcdlatsvt iwpi vgdlh ugdb iwtdgn, egprixrt, rdckxrixdc, phhtgixdc, tggdg pcs wjbxaxipixdc.\" (Gjat 7: Jht p rdadc puitg pc xcstetcstci rapjht id xcigdsjrt p axhi du epgixrjapgh, pc peedhxixkt, pc pbeaxuxrpixdc dg pc xaajhigpixkt fjdipixdc. Ugdb Higjcz & Lwxit, \"Iwt Tatbtcih du Hinat\".)'\n",
    "message3 = \"Cywo cmsoxdscdc gybu cy rkbn drobo sc xy dswo vopd pyb cobsyec drsxusxq. (kddbsledon dy Pbkxmsc Mbsmu)\"\n",
    "print(decrypt_search(message1))\n",
    "print(decrypt_search(message2))\n",
    "print(decrypt_search(message3))\n",
    "print(decrypt_find_e(message1))\n",
    "print(decrypt_find_e(message2))"
   ]
  },
  {
   "cell_type": "code",
   "execution_count": 324,
   "metadata": {},
   "outputs": [
    {
     "name": "stdout",
     "output_type": "stream",
     "text": [
      "ogday\n",
      "atchscray\n",
      "isyay\n",
      "appleyay\n",
      "1287643\n"
     ]
    }
   ],
   "source": [
    "# If a word begins with a vowel, append \"yay\" to the end of the word.\n",
    "\n",
    "# If a word begins with a consonant, remove all the consonants from the beginning up to the first vowel and append them to the end of the word. Finally, append \"ay\" to the end of the word.\n",
    "\n",
    "def to_pig_latin(string):\n",
    "    #TODO: implement this function\n",
    "    # if is not a word, return itself\n",
    "\n",
    "    if not string.isalpha():\n",
    "        return string\n",
    "    \n",
    "    result = \"\"\n",
    "    \n",
    "     # the initial consonant sound is transposed to the end of the word\n",
    "    if string[0] not in \"aeiou\":\n",
    "        for i in range(len(string)):\n",
    "            if string[i] in \"aeiou\":\n",
    "                result = string[i:] + string[:i] + \"ay\"\n",
    "                break\n",
    "    else:\n",
    "        result = string + \"yay\"\n",
    "    return result\n",
    "\n",
    "print(to_pig_latin('dog'))\n",
    "print(to_pig_latin('scratch'))\n",
    "print(to_pig_latin('is'))\n",
    "print(to_pig_latin('apple'))\n",
    "print(to_pig_latin('1287643'))"
   ]
  },
  {
   "cell_type": "code",
   "execution_count": 325,
   "metadata": {},
   "outputs": [
    {
     "data": {
      "image/png": "[encoded data removed]",
      "text/plain": [
       "<Figure size 640x480 with 1 Axes>"
      ]
     },
     "metadata": {},
     "output_type": "display_data"
    }
   ],
   "source": [
    "# Given a function p(N) <= 5/(6*N), q(N) <= 1/4. N is from {4,8,12,16,20,24,28,32,36,40}. \n",
    "# Plot the function p(N) and q(N) in the same figure. Use different colors for the two functions and add a legend to the figure.\n",
    "\n",
    "import matplotlib.pyplot as plt\n",
    "import numpy as np\n",
    "\n",
    "N = np.array([4, 8, 12, 16, 20, 24, 28, 32, 36, 40])\n",
    "\n",
    "p = 5 / (6 * N)\n",
    "q = 0.25 * np.ones(len(N))\n",
    "\n",
    "plt.plot(N, p, label='p(N)')\n",
    "plt.plot(N, q, label='q(N)')\n",
    "\n",
    "plt.xlabel('N')\n",
    "plt.ylabel('Function values')\n",
    "plt.title('Plot of p(N) and q(N)')\n",
    "plt.legend()\n",
    "\n",
    "plt.show()"
   ]
  },
  {
   "cell_type": "code",
   "execution_count": 326,
   "metadata": {},
   "outputs": [
    {
     "data": {
      "text/plain": [
       "6"
      ]
     },
     "execution_count": 326,
     "metadata": {},
     "output_type": "execute_result"
    }
   ],
   "source": [
    "max(1,6)"
   ]
  },
  {
   "cell_type": "code",
   "execution_count": 327,
   "metadata": {},
   "outputs": [
    {
     "data": {
      "text/plain": [
       "[8, 7, 5, 4, 3, 2, 1]"
      ]
     },
     "execution_count": 327,
     "metadata": {},
     "output_type": "execute_result"
    }
   ],
   "source": [
    "list1=[1,2,3,4,5]\n",
    "list2=list1\n",
    "list3=list2\n",
    "list1.extend([6,7,8])\n",
    "list2.reverse()\n",
    "list3.remove(6)\n",
    "\n",
    "list1"
   ]
  },
  {
   "cell_type": "code",
   "execution_count": 328,
   "metadata": {},
   "outputs": [
    {
     "data": {
      "text/plain": [
       "617"
      ]
     },
     "execution_count": 328,
     "metadata": {},
     "output_type": "execute_result"
    }
   ],
   "source": [
    "lsit = [(n*n) for n in range(1234) if (n*n)%2==0]\n",
    "len(lsit) "
   ]
  },
  {
   "cell_type": "code",
   "execution_count": 329,
   "metadata": {},
   "outputs": [],
   "source": [
    "def perfect_shuffle_in_place(a_list):\n",
    "    #TODO: implement this function\n",
    "    perfect_list = a_list.copy()\n",
    "    # split into two lists\n",
    "    list1 = perfect_list[0:len(perfect_list)//2]\n",
    "    list2 = perfect_list[len(perfect_list)//2:]\n",
    "    # shuffle\n",
    "    perfect_list = []\n",
    "    for i in range(len(list1)):\n",
    "        perfect_list.append(list1[i])\n",
    "        perfect_list.append(list2[i])\n",
    "    a_list[:] = perfect_list\n",
    "\n",
    "\n",
    "def count_shuffles(a_list):\n",
    "    #TODO: imeplement this function\n",
    "    count = 0\n",
    "    perfect_list = a_list.copy()\n",
    "    while True:\n",
    "        count += 1\n",
    "        perfect_shuffle_in_place(perfect_list)\n",
    "        if perfect_list == a_list:\n",
    "            break\n",
    "    return count"
   ]
  },
  {
   "cell_type": "code",
   "execution_count": 330,
   "metadata": {},
   "outputs": [],
   "source": [
    "def nesting_depth(a_list):\n",
    "    #TODO: imeplement this function\n",
    "    max_depth = 0\n",
    "    for e in a_list:\n",
    "        if type(e) == list:\n",
    "            depth = nesting_depth(e)\n",
    "            if depth > max_depth:\n",
    "                max_depth = depth\n",
    "    return max_depth "
   ]
  },
  {
   "cell_type": "code",
   "execution_count": 331,
   "metadata": {},
   "outputs": [
    {
     "data": {
      "text/plain": [
       "['b', 'c']"
      ]
     },
     "execution_count": 331,
     "metadata": {},
     "output_type": "execute_result"
    }
   ],
   "source": [
    "a_dict = { 'a' : ['a'],  'b' : ['b'] }\n",
    "a_dict['a'] = a_dict.copy()\n",
    "a_dict['c'] = a_dict\n",
    "a_dict['a']['b'].append('c')\n",
    "a_dict['c']['a']['b'] = []\n",
    "\n",
    "\n",
    "a_dict['c']['b']"
   ]
  },
  {
   "cell_type": "code",
   "execution_count": 332,
   "metadata": {},
   "outputs": [
    {
     "name": "stdout",
     "output_type": "stream",
     "text": [
      "行列式的值为: 0\n"
     ]
    }
   ],
   "source": [
    "import numpy as np\n",
    "\n",
    "# 三个列向量，假设为 a, b, c\n",
    "a = np.array([1, 2, 3])\n",
    "b = np.array([4, 5, 6])\n",
    "c = np.array([7, 8, 9])\n",
    "\n",
    "# 构建 3x3 矩阵\n",
    "matrix = np.column_stack((a, b, c))\n",
    "\n",
    "# 使用叉乘和点乘计算行列式\n",
    "determinant = np.dot(a, np.cross(b, c))\n",
    "print(\"行列式的值为:\", determinant)"
   ]
  },
  {
   "cell_type": "code",
   "execution_count": 333,
   "metadata": {},
   "outputs": [],
   "source": [
    "def invert_dictionary(d):\n",
    "    d_inv = {}\n",
    "    for key, value in d.items():\n",
    "        if value not in d_inv:\n",
    "            d_inv[value] = key\n",
    "        else:\n",
    "            d_inv[value] = key\n",
    "    return d_inv"
   ]
  },
  {
   "cell_type": "code",
   "execution_count": 334,
   "metadata": {},
   "outputs": [],
   "source": [
    "def invert_dictionary(d):\n",
    "    d_inv = {}\n",
    "    for key, value in d.items():\n",
    "        if value not in d_inv:\n",
    "            d_inv[value] = key\n",
    "        else:\n",
    "            d_inv[value] = key\n",
    "    return d_inv"
   ]
  },
  {
   "cell_type": "code",
   "execution_count": 335,
   "metadata": {},
   "outputs": [
    {
     "data": {
      "text/plain": [
       "[['alice'], ['bob'], ['carol'], ['dave'], ['eve']]"
      ]
     },
     "execution_count": 335,
     "metadata": {},
     "output_type": "execute_result"
    }
   ],
   "source": [
    "def closed_sets(permutation):\n",
    "    #TODO: implement this function\n",
    "    checked = []\n",
    "    result = []\n",
    "    for key in permutation.keys():\n",
    "        if key not in checked:\n",
    "            current_res = [key]\n",
    "            current_search = key\n",
    "            while current_search in permutation.keys() and current_search not in current_res:\n",
    "                checked.append(current_search)\n",
    "                nextkey = permutation[current_search]\n",
    "                current_res.append(nextkey)\n",
    "                current_search = nextkey\n",
    "            result.append(current_res)\n",
    "    return result\n",
    "\n",
    "p1 = { 'alice' : 'carol', 'bob' : 'bob', 'carol' : 'eve',\n",
    "       'dave' : 'dave', 'eve' : 'alice' }\n",
    "closed_sets(p1)"
   ]
  },
  {
   "cell_type": "code",
   "execution_count": 336,
   "metadata": {},
   "outputs": [],
   "source": [
    "def count_repetitions(string, substring):\n",
    "    '''\n",
    "    Count the number of repetitions of substring in string. Both\n",
    "    arguments must be strings.\n",
    "    '''\n",
    "    return string.count(substring)"
   ]
  },
  {
   "cell_type": "code",
   "execution_count": 337,
   "metadata": {},
   "outputs": [
    {
     "name": "stdout",
     "output_type": "stream",
     "text": [
      "2\n"
     ]
    }
   ],
   "source": [
    "print(count_repetitions(\"aabsabs\",\"abs\"))"
   ]
  },
  {
   "cell_type": "code",
   "execution_count": 338,
   "metadata": {},
   "outputs": [],
   "source": [
    "def remove_substring_everywhere(string, substring):\n",
    "    '''\n",
    "    Remove all occurrences of substring from string, and return\n",
    "    the resulting string. Both arguments must be strings.\n",
    "    '''\n",
    "    return string.replace(substring, \"\")"
   ]
  },
  {
   "cell_type": "code",
   "execution_count": 339,
   "metadata": {},
   "outputs": [
    {
     "name": "stdout",
     "output_type": "stream",
     "text": [
      "a\n"
     ]
    }
   ],
   "source": [
    "print(remove_substring_everywhere(\"aabsabs\",\"abs\"))"
   ]
  },
  {
   "cell_type": "code",
   "execution_count": 340,
   "metadata": {},
   "outputs": [
    {
     "name": "stdout",
     "output_type": "stream",
     "text": [
      "[3, 2, 1] [3, 2, 1] [1, 2, 3]\n"
     ]
    }
   ],
   "source": [
    "\n",
    "def funA(alist):\n",
    "    if len(alist) == 0:\n",
    "        return alist\n",
    "    else:\n",
    "        return funA(alist[1:]) + [alist[0]]\n",
    "\n",
    "def funB(alist):\n",
    "    if len(alist) > 0:\n",
    "        x = alist.pop(-1)\n",
    "        alist = funB(alist)\n",
    "        alist.insert(0,x)\n",
    "    return alist\n",
    "\n",
    "a = [1,2,3]\n",
    "b = funB(a)\n",
    "c = funA(a)\n",
    "print(a,b,c)"
   ]
  },
  {
   "cell_type": "code",
   "execution_count": 341,
   "metadata": {},
   "outputs": [
    {
     "name": "stdout",
     "output_type": "stream",
     "text": [
      "2\n",
      "4\n"
     ]
    }
   ],
   "source": [
    "def f(x):\n",
    "    print(y)\n",
    "    if y < 1:\n",
    "        z = 1\n",
    "        return x ** z\n",
    "    else:\n",
    "        return x ** y\n",
    "\n",
    "y = 2\n",
    "print(f(2))"
   ]
  },
  {
   "cell_type": "code",
   "execution_count": 342,
   "metadata": {},
   "outputs": [
    {
     "name": "stdout",
     "output_type": "stream",
     "text": [
      "2\n",
      "4\n"
     ]
    }
   ],
   "source": [
    "def f(x):\n",
    "    global y\n",
    "    print(y)\n",
    "    if y < 1:\n",
    "        y = 1\n",
    "    return x ** y\n",
    "\n",
    "y = 2\n",
    "print(f(2))"
   ]
  },
  {
   "cell_type": "code",
   "execution_count": 343,
   "metadata": {},
   "outputs": [
    {
     "data": {
      "text/plain": [
       "[['a', 'b', 'd'], ['a', 'b', 'c', 'd'], ['a', 'b', 'c', 'd']]"
      ]
     },
     "execution_count": 343,
     "metadata": {},
     "output_type": "execute_result"
    }
   ],
   "source": [
    "example_set = [\"a\", \"b\", \"d\",\"a\", \"b\", \"c\", \"d\", \"a\", \"b\", \"c\", \"d\"]\n",
    "\n",
    "def is_trending(left, right):\n",
    "    # left < right , min to max increasing \n",
    "    # left > right , max to min decreasing\n",
    "    return left < right\n",
    "\n",
    "def is_same_element(left, right):\n",
    "    return str(left) == str(right)\n",
    "\n",
    "def find_trending_group(eg_set):\n",
    "    results = []\n",
    "    current = []\n",
    "    for i in range(len(eg_set)):\n",
    "        if i+1 < len(eg_set) and is_trending(eg_set[i], eg_set[i+1]):\n",
    "            current.append(eg_set[i])\n",
    "        else:\n",
    "            current.append(eg_set[i])\n",
    "            results.append(current)\n",
    "            current = []\n",
    "    # results.append(current)\n",
    "    return results\n",
    "\n",
    "def find_longest_result(results):\n",
    "    lens = [len(x) for x in results]\n",
    "    return results[lens.index(max(lens))]\n",
    "\n",
    "def find_same_result(results):\n",
    "    counter = {}\n",
    "    for result in results:\n",
    "        if str(result) not in counter.keys():\n",
    "            counter[str(result)] = 0\n",
    "        counter[str(result)] += 1\n",
    "    return counter\n",
    "\n",
    "# [\"a\", \"b\", \"d\",\"a\", \"b\", \"c\", \"d\", \"a\", \"b\", \"c\", \"d\"]\n",
    "# results = find_trending_group(example_set)\n",
    "# results\n",
    "# [['a', 'b', 'd'], ['a', 'b', 'c', 'd'], ['a', 'b', 'c', 'd']]\n",
    "\n",
    "# example_set = [1,2,3,2,3]\n",
    "# results = find_trending_group(example_set)\n",
    "# results\n",
    "# [[1, 2, 3], [2, 3]]"
   ]
  },
  {
   "cell_type": "code",
   "execution_count": 369,
   "metadata": {},
   "outputs": [
    {
     "data": {
      "text/plain": [
       "[[1, 2, 3], [2, 3]]"
      ]
     },
     "execution_count": 369,
     "metadata": {},
     "output_type": "execute_result"
    }
   ],
   "source": [
    "example_set = [1,2,3,2,3]\n",
    "results = find_trending_group(example_set)\n",
    "results"
   ]
  },
  {
   "cell_type": "code",
   "execution_count": 345,
   "metadata": {},
   "outputs": [
    {
     "data": {
      "text/plain": [
       "9"
      ]
     },
     "execution_count": 345,
     "metadata": {},
     "output_type": "execute_result"
    }
   ],
   "source": [
    "x = 1\n",
    "y = -3\n",
    "def funA( y ):\n",
    "    if x >= 0:\n",
    "        return y\n",
    "    else:\n",
    "        return -y\n",
    "\n",
    "def funB( x ):\n",
    "    return x * funA( y ) # y * y_ \n",
    "\n",
    "funB(y)"
   ]
  },
  {
   "cell_type": "code",
   "execution_count": 346,
   "metadata": {},
   "outputs": [
    {
     "data": {
      "text/plain": [
       "[2, 2, 4, 5, 5, 5]"
      ]
     },
     "execution_count": 346,
     "metadata": {},
     "output_type": "execute_result"
    }
   ],
   "source": [
    "test_list = [1,2,2,4,5,5,5]\n",
    "\n",
    "test_list[1:]"
   ]
  },
  {
   "cell_type": "code",
   "execution_count": 347,
   "metadata": {},
   "outputs": [
    {
     "data": {
      "text/plain": [
       "[1, 2, 3, 4, 6, 9, 89, 100, 343, 643]"
      ]
     },
     "execution_count": 347,
     "metadata": {},
     "output_type": "execute_result"
    }
   ],
   "source": [
    "eg_list = [1,2,3,4,6,89,9,643,100,343]\n",
    "\n",
    "# get min to max\n",
    "eg_list_sort = eg_list.copy()\n",
    "eg_list_sort.sort()\n",
    "\n",
    "\n",
    "# get max to min\n",
    "eg_list_sort_res = eg_list.copy()\n",
    "eg_list_sort_res.sort(reverse=True)\n",
    "\n",
    "eg_list_sort"
   ]
  },
  {
   "cell_type": "code",
   "execution_count": 348,
   "metadata": {},
   "outputs": [
    {
     "data": {
      "text/plain": [
       "(10, 2)"
      ]
     },
     "execution_count": 348,
     "metadata": {},
     "output_type": "execute_result"
    }
   ],
   "source": [
    "x_in = [1,2,3,4,5,6,7,8,9,10]\n",
    "\n",
    "x_in[-1], x_in[1]"
   ]
  },
  {
   "cell_type": "code",
   "execution_count": 349,
   "metadata": {},
   "outputs": [
    {
     "name": "stdout",
     "output_type": "stream",
     "text": [
      "The max difference is  9\n"
     ]
    }
   ],
   "source": [
    "def find_max(x):\n",
    "    x.sort()\n",
    "    return x[-1] - x[0]\n",
    "\n",
    "print(\"The max difference is \", find_max(x_in))"
   ]
  },
  {
   "cell_type": "code",
   "execution_count": 350,
   "metadata": {},
   "outputs": [
    {
     "data": {
      "text/plain": [
       "{'b': 'a', 'e': 'b', 'f': 'c'}"
      ]
     },
     "execution_count": 350,
     "metadata": {},
     "output_type": "execute_result"
    }
   ],
   "source": [
    "eg_dict = {\n",
    "    \"a\": \"b\",\n",
    "    \"b\": \"e\",\n",
    "    \"c\": \"f\"\n",
    "}\n",
    "\n",
    "# O(n)\n",
    "def count_ele_in_list(input_list):\n",
    "    counter = {}\n",
    "    for ele in input_list:\n",
    "        if ele not in counter.keys():\n",
    "            counter[ele] = 0\n",
    "        counter[ele] += 1\n",
    "    return counter\n",
    "\n",
    "def is_invertable(dict):\n",
    "    values = dict.values()\n",
    "    \n",
    "    counter = count_ele_in_list(values)\n",
    "\n",
    "    for count in counter.values():\n",
    "        if count > 1:\n",
    "            return False\n",
    "    return True\n",
    "\n",
    "def invert_dict(dict):\n",
    "    if not is_invertable(dict):\n",
    "        return None\n",
    "    keys = list(dict.keys())\n",
    "    values = list(dict.values())\n",
    "\n",
    "    results = {}\n",
    "    for i in range(len(keys)):\n",
    "        results[values[i]] = keys[i]\n",
    "    return results\n",
    "\n",
    "# is_invertable(eg_dict)\n",
    "invert_dict(eg_dict)"
   ]
  },
  {
   "cell_type": "code",
   "execution_count": 351,
   "metadata": {},
   "outputs": [
    {
     "name": "stdout",
     "output_type": "stream",
     "text": [
      "[1, 2, 3, 4, 6, 9, 89, 100, 343, 643]\n"
     ]
    },
    {
     "data": {
      "text/plain": [
       "100"
      ]
     },
     "execution_count": 351,
     "metadata": {},
     "output_type": "execute_result"
    }
   ],
   "source": [
    "eg_list = [1,2,3,4,6,89,9,643,100,343]\n",
    "\n",
    "\n",
    "limit_level = 105\n",
    "\n",
    "# max ele that is not greater than limit_level.\n",
    "def bst_search(eg_list, min_index, max_index, limit_level):\n",
    "    if min_index >= max_index:\n",
    "        return min_index\n",
    "    mid_index = (min_index + max_index) // 2\n",
    "    if eg_list[mid_index] == limit_level:\n",
    "        return mid_index\n",
    "    elif eg_list[mid_index] > limit_level:\n",
    "        return bst_search(eg_list, min_index, mid_index-1, limit_level)\n",
    "    else:\n",
    "        return bst_search(eg_list, mid_index+1, max_index, limit_level)\n",
    "\n",
    "eg_list_used = eg_list.copy()\n",
    "eg_list_used.sort()\n",
    "print(eg_list_used)\n",
    "limit_index = bst_search(eg_list_used, 0, len(eg_list_used), limit_level)\n",
    "eg_list_used[limit_index]"
   ]
  },
  {
   "cell_type": "code",
   "execution_count": 352,
   "metadata": {},
   "outputs": [],
   "source": [
    "# heap sort\n",
    "def heapify(arr, n, i):\n",
    "    largest = i\n",
    "    l = 2 * i + 1\n",
    "    r = 2 * i + 2\n",
    " \n",
    "    if l < n and arr[i] < arr[l]:\n",
    "        largest = l\n",
    " \n",
    "    if r < n and arr[largest] < arr[r]:\n",
    "        largest = r\n",
    " \n",
    "    if largest != i:\n",
    "        arr[i],arr[largest] = arr[largest],arr[i]\n",
    " \n",
    "        heapify(arr, n, largest)\n",
    "\n",
    "def heap_sort(arr):\n",
    "    n = len(arr)\n",
    " \n",
    "    for i in range(n//2 - 1, -1, -1):\n",
    "        heapify(arr, n, i)\n",
    " \n",
    "    for i in range(n-1, 0, -1):\n",
    "        arr[i], arr[0] = arr[0], arr[i] \n",
    "        heapify(arr, i, 0)\n",
    "    \n",
    "    return arr\n",
    "\n",
    "heap_sort(eg_list)\n",
    "\n",
    "# get the max k elements\n",
    "def get_max_k_elements(arr, k):\n",
    "    n = len(arr)\n",
    " \n",
    "    for i in range(n//2 - 1, -1, -1):\n",
    "        heapify(arr, n, i)\n",
    " \n",
    "    for i in range(n-1, n-k-1, -1):\n",
    "        arr[i], arr[0] = arr[0], arr[i] \n",
    "        heapify(arr, i, 0)\n",
    "    \n",
    "    return arr[n-k:]"
   ]
  },
  {
   "cell_type": "code",
   "execution_count": 353,
   "metadata": {},
   "outputs": [
    {
     "name": "stdout",
     "output_type": "stream",
     "text": [
      "643 343\n"
     ]
    }
   ],
   "source": [
    "eg_list = [1,2,3,4,6,89,9,643,100,343]\n",
    "\n",
    "def is_better_trending(new_ele, temp_ele):\n",
    "    # new_ele > temp_ele -> max\n",
    "    # new_ele < temp_ele -> min\n",
    "    return new_ele > temp_ele\n",
    "\n",
    "# O(n)\n",
    "# get trending element index\n",
    "def get_trending_position(input_list):\n",
    "    largest_index = 0\n",
    "    temp_largest = input_list[largest_index]\n",
    "    for i in range(len(input_list)):\n",
    "        if is_better_trending(input_list[i], temp_largest):\n",
    "            temp_largest = input_list[i]\n",
    "            largest_index = i\n",
    "    return largest_index\n",
    "\n",
    "list_used = eg_list.copy()\n",
    "\n",
    "lg = get_trending_position(list_used)\n",
    "lg_ele = list_used.pop(lg)\n",
    "\n",
    "lg2 = get_trending_position(list_used)\n",
    "print(lg_ele, list_used[lg2])"
   ]
  },
  {
   "cell_type": "code",
   "execution_count": 354,
   "metadata": {},
   "outputs": [
    {
     "data": {
      "text/plain": [
       "['hello', 'overONE', 'hh']"
      ]
     },
     "execution_count": 354,
     "metadata": {},
     "output_type": "execute_result"
    }
   ],
   "source": [
    "eg_string = \"hello overONE 12 hh3\"\n",
    "\n",
    "def fetch_letter_only(str_input):\n",
    "    str_arr = str_input.split()\n",
    "    result = []\n",
    "    for strs in str_arr:\n",
    "        current_str = \"\"\n",
    "        for s in strs:\n",
    "            if s.isalpha():\n",
    "                current_str += s\n",
    "        if current_str != \"\":\n",
    "            result.append(current_str)\n",
    "    return result\n",
    "\n",
    "fetch_letter_only(eg_string)"
   ]
  },
  {
   "cell_type": "code",
   "execution_count": 355,
   "metadata": {},
   "outputs": [
    {
     "data": {
      "text/plain": [
       "[13.0, 17.5, 20.4, 24.1]"
      ]
     },
     "execution_count": 355,
     "metadata": {},
     "output_type": "execute_result"
    }
   ],
   "source": [
    "eg_list = [13.0, 9.6, 14.2, 17.5, 8.9, 9.7, 15.7, 20.4, 14.8, 13.2, 13.6, 15.6, 17.9, 24.1, 19.2]\n",
    "\n",
    "search_area = [-1,0,1]\n",
    "peak_area = 1\n",
    "\n",
    "def get_peak_ele(eg_list, search_area, peak_area):\n",
    "    results = []\n",
    "    for i in range(len(eg_list)):\n",
    "        neibour_area = search_area.copy()\n",
    "        neibour_area.pop(peak_area)\n",
    "\n",
    "        peak_ele = eg_list[i]\n",
    "        neibour_area_ele = []\n",
    "        for j in neibour_area:\n",
    "            if i+j >= 0 and i+j < len(eg_list):\n",
    "                neibour_area_ele.append(eg_list[i+j])\n",
    "        \n",
    "        # eak_ele > max(neibour_area_ele) -> max\n",
    "        # eak_ele < max(neibour_area_ele) -> min\n",
    "        if peak_ele > max(neibour_area_ele):\n",
    "            results.append(peak_ele)\n",
    "    return results\n",
    "\n",
    "\n",
    "get_peak_ele(eg_list, search_area, peak_area)\n"
   ]
  },
  {
   "cell_type": "code",
   "execution_count": 356,
   "metadata": {},
   "outputs": [
    {
     "name": "stdout",
     "output_type": "stream",
     "text": [
      "Soul [('s', 6), ('ne', 4), ('nes', 4), ('hone', 3), ('hones', 3), ('honest', 3)]\n"
     ]
    },
    {
     "data": {
      "text/plain": [
       "3"
      ]
     },
     "execution_count": 356,
     "metadata": {},
     "output_type": "execute_result"
    }
   ],
   "source": [
    "egs = ['honestness', 'honestly', 'dishonest', 'fairly']\n",
    "k = 6\n",
    "\n",
    "\n",
    "def most_common_substr(strings, k):\n",
    "    substrs = []\n",
    "    for string in strings:\n",
    "        for i in range(len(string)-k+1):\n",
    "            substrs.append(string[i:i+k])\n",
    "    counter = count_ele_in_list(substrs)\n",
    "    return get_max_pair_in_dict(counter)\n",
    "\n",
    "def get_max_pair_in_dict(dict):\n",
    "    if dict == {}:\n",
    "        return [], 0\n",
    "    \n",
    "    max_value = max(dict.values())\n",
    "    return [key for key, value in dict.items() if value == max_value][0], max_value\n",
    "\n",
    "def find_common_solu(strings):\n",
    "    results = []\n",
    "\n",
    "    k = 1\n",
    "    while True:\n",
    "        string, time = most_common_substr(strings, k)\n",
    "        if time > 1:\n",
    "            results.append((string, time))\n",
    "            k += 1\n",
    "        else:\n",
    "            break\n",
    "    return results\n",
    "\n",
    "soul = find_common_solu(egs)\n",
    "print(\"Soul\", soul)\n",
    "soul[-1][1]"
   ]
  },
  {
   "cell_type": "code",
   "execution_count": 357,
   "metadata": {},
   "outputs": [
    {
     "data": {
      "text/plain": [
       "[5, 2, 3, 5, 7, 8, 9, 4]"
      ]
     },
     "execution_count": 357,
     "metadata": {},
     "output_type": "execute_result"
    }
   ],
   "source": [
    "eg_list = [1,2,3,4,4,5,7,8,9,4,4,4]\n",
    "\n",
    "# by index\n",
    "eg_list.pop(0)\n",
    "\n",
    "# by value\n",
    "eg_list.remove(4)\n",
    "eg_list.remove(4)\n",
    "eg_list.remove(4)\n",
    "eg_list.remove(4)\n",
    "eg_list.remove(4)\n",
    "\n",
    "# by value\n",
    "eg_list.append(4)\n",
    "eg_list.insert(0, 5)\n",
    "\n",
    "eg_list"
   ]
  },
  {
   "cell_type": "code",
   "execution_count": 358,
   "metadata": {},
   "outputs": [
    {
     "data": {
      "text/plain": [
       "[1, 2, 3, 5, 7, 8, 9]"
      ]
     },
     "execution_count": 358,
     "metadata": {},
     "output_type": "execute_result"
    }
   ],
   "source": [
    "eg_list = [1,2,3,4,4,5,7,8,9,4,4,4]\n",
    "\n",
    "def remove_all(list_input, ele):\n",
    "    new_list = []\n",
    "    for eles in list_input:\n",
    "        if eles == ele:\n",
    "            continue\n",
    "        new_list.append(eles)\n",
    "    return new_list\n",
    "\n",
    "remove_all(eg_list, 4)"
   ]
  },
  {
   "cell_type": "code",
   "execution_count": 359,
   "metadata": {},
   "outputs": [
    {
     "name": "stdout",
     "output_type": "stream",
     "text": [
      "all tests passed\n"
     ]
    }
   ],
   "source": [
    "def unnest(alist):\n",
    "    result = []\n",
    "    for ele in alist:\n",
    "        # if type(ele) == list:\n",
    "        #     result += unnest(ele)\n",
    "        # else:\n",
    "        #     result.append(ele)\n",
    "        result += unnest(ele) if type(ele) == list else [ele]\n",
    "    return result\n",
    " \n",
    " \n",
    "def test_unnest():\n",
    "    \"\"\"\n",
    "    This function runs a number of tests of the unnest function.\n",
    "    If it works ok, you will just see the output (\"all tests passed\") at\n",
    "    the end when you call this function; if some test fails, there will\n",
    "    be an error message.\n",
    "    \"\"\"\n",
    "    \n",
    "    assert unnest([2, 1, 3, [0, 4]]) == [2, 1, 3, 0, 4]\n",
    "    assert unnest([1, [3], [2, 4], 0]) == [1, 3, 2, 4, 0]\n",
    "    assert unnest([[[3, 0], 1], 4, 2]) == [3, 0, 1, 4, 2]\n",
    "    assert unnest([1, [2], [[3], [[4], 5]]]) == [1, 2, 3, 4, 5]\n",
    "    assert unnest([0, [[2, [1], 4]], [[3]]]) == [0, 2, 1, 4, 3]\n",
    "    assert unnest([[[0], 2], 3, 1, 4]) == [0, 2, 3, 1, 4]\n",
    "    assert unnest([[9, 5, 0, 4], [8, 7, 1], 6, 3, 2]) == [9, 5, 0, 4, 8, 7, 1, 6, 3, 2]\n",
    "    assert unnest([6, 9, [2, 8, 7, 4], [[0, [5]], 1, 3]]) == [6, 9, 2, 8, 7, 4, 0, 5, 1, 3]\n",
    " \n",
    "    assert unnest([[0], [[[2, 4, 3]], [1]]]) == [0, 2, 4, 3, 1]\n",
    "    assert unnest([[4, [[1]]], 0, 2, 3]) == [4, 1, 0, 2, 3]\n",
    "    assert unnest([[[1, 3, 4, [[[[2]]]]]], 0]) == [1, 3, 4, 2, 0]\n",
    "    assert unnest([[4], 1, [[3, [0], [[2]]]]]) == [4, 1, 3, 0, 2]\n",
    "    assert unnest([[[0]], 4, [[[3]]], [1, 2]]) == [0, 4, 3, 1, 2]\n",
    "    assert unnest([7, [[5], [2], 4], 6, [[[0, [8], 1]], 9], [[3]]]) == [7, 5, 2, 4, 6, 0, 8, 1, 9, 3]\n",
    "    assert unnest([[2, 6, [[[5]]], [7], 4, 9, 1, 0, 8], [[3]]]) == [2, 6, 5, 7, 4, 9, 1, 0, 8, 3]\n",
    "    assert unnest([8, 6, 2, 1, 5, 7, 3, 9, [[[[[[[4]]]]]]], [0]]) == [8, 6, 2, 1, 5, 7, 3, 9, 4, 0]\n",
    "    assert unnest([[4, [[[1]], 5, 2, 8, [[[3]], 0, 6]], 7, 9]]) == [4, 1, 5, 2, 8, 3, 0, 6, 7, 9]\n",
    "    assert unnest([[[[1, 9], [3]], [2, [7, 5, 8], 6, 0]], 4]) == [1, 9, 3, 2, 7, 5, 8, 6, 0, 4]\n",
    " \n",
    "    assert unnest([1, [], [2], [[3], [], [[4], [], 5]]]) == [1, 2, 3, 4, 5]\n",
    "    assert unnest([1, [[3], []], [], [[], 2, 4], 0]) == [1, 3, 2, 4, 0]\n",
    "    assert unnest([0, [[], [2, [1], 4]], [[], [3]]]) == [0, 2, 1, 4, 3]\n",
    "    assert unnest([[], [[], [[], 3, 0], 1], [], 4, 2]) == [3, 0, 1, 4, 2]\n",
    "    assert unnest([[[0], [], 2], [], [], 3, 1, [], 4]) == [0, 2, 3, 1, 4]\n",
    "    assert unnest([2, [[]], 1, [3], [[0, 4]]]) == [2, 1, 3, 0, 4]\n",
    "    assert unnest([[[]]]) == []\n",
    " \n",
    "    print(\"all tests passed\")\n",
    "\n",
    "test_unnest()"
   ]
  },
  {
   "cell_type": "code",
   "execution_count": 360,
   "metadata": {},
   "outputs": [
    {
     "name": "stdout",
     "output_type": "stream",
     "text": [
      "all tests passed\n"
     ]
    }
   ],
   "source": [
    " \n",
    "# Implement the function count_dict_difference below.\n",
    "# You can define other functions if it helps you decompose and solve\n",
    "# the problem.\n",
    "# Do not import any module that you do not use!\n",
    " \n",
    "# Remember that if this were an exam problem, in order to be marked\n",
    "# this file must meet certain requirements:\n",
    "# - it must contain ONLY syntactically valid python code (any syntax\n",
    "#   or indentation error that stops the file from running would result\n",
    "#   in a mark of zero);\n",
    "# - you MAY NOT use global variables; the function must use only the\n",
    "#   input provided to it in its arguments.\n",
    " \n",
    "def count_dict_difference(A, B):\n",
    "    results = {}\n",
    "    keys_of_B = B.keys()\n",
    "    for key, value in A.items():\n",
    "        if key not in keys_of_B:\n",
    "            results[key] = value\n",
    "        else:\n",
    "            diff = value - B[key]\n",
    "            if diff > 0:\n",
    "                results[key] = value - B[key]\n",
    "    return results\n",
    " \n",
    " \n",
    "def test_count_dict_difference():\n",
    "    \"\"\"\n",
    "    This function runs a number of tests of the count_dict_difference function.\n",
    "    If it works ok, you will just see the output (\"all tests passed\") at\n",
    "    the end when you call this function; if some test fails, there will\n",
    "    be an error message.\n",
    "    \"\"\"\n",
    " \n",
    "    assert count_dict_difference({'d': 3, 'e': 1, 'z': 1, 's': 1, 'i': 1, 'r': 1, 'a': 2, 'n': 1, 't': 1}, {'e': 2, 'x': 1, 'g': 1, 's': 1, 'p': 1, 'i': 1, 't': 1, 'a': 2, 'n': 1, 'r': 1}) == {'z': 1, 'd': 3}\n",
    "    assert count_dict_difference({'m': 1, 'o': 1, 'c': 2, 'r': 1, 'i': 2, 't': 1, 'a': 2, 'n': 1, 'l': 2, 'u': 1}, {'m': 2, 'o': 2, 'c': 1, 'z': 1, 'a': 2, 'i': 5, 'u': 1, 'r': 2, 'n': 2, 's': 1, 't': 2}) == {'l': 2, 'c': 1}\n",
    "    assert count_dict_difference({'g': 1, 'c': 1, 'a': 2, 'i': 2, 'u': 1, 'r': 1, 'n': 1, 'l': 1, 't': 2}, {'g': 1, 'c': 1, 's': 1, 'a': 2, 'i': 2, 't': 2, 'r': 2, 'l': 2, 'u': 2}) == {'n': 1}\n",
    "    assert count_dict_difference({'o': 1, 's': 5, 'i': 2, 'a': 3, 'n': 2, 't': 1}, {'o': 1, 'c': 1, 'z': 1, 'i': 2, 't': 2, 'a': 3, 'n': 1, 'l': 1, 'u': 1}) == {'s': 5, 'n': 1}\n",
    "    assert count_dict_difference({'o': 2, 'c': 1, 'e': 2, 's': 2, 'r': 2, 'n': 2, 't': 1}, {'d': 2, 'c': 1, 'e': 3, 'a': 1, 't': 1, 'r': 2, 'o': 2, 'v': 1}) == {'s': 2, 'n': 2}\n",
    "    assert count_dict_difference({'e': 4, 'g': 2, 's': 5, 'a': 1, 'i': 1, 'r': 1, 'n': 1, 'v': 1}, {'o': 1, 'i': 1, 'g': 1, 'c': 2, 'e': 1, 'a': 2, 'k': 1, 'u': 1, 'r': 1, 'n': 2, 't': 3}) == {'s': 5, 'e': 3, 'g': 1, 'v': 1}\n",
    "    \n",
    "    assert count_dict_difference({0: 1, 17: 2, 2: 1, 19: 2, 4: 1, 8: 2, 18: 1, 13: 1, 14: 1, 15: 1}, {0: 2, 17: 1, 2: 1, 19: 2, 4: 1, 8: 2, 20: 1, 11: 1, 13: 1, 14: 1, 15: 1}) == {17: 1, 18: 1}\n",
    "    assert count_dict_difference({0: 1, 17: 1, 18: 2, 19: 1, 4: 1, 8: 4, 11: 1, 12: 1}, {0: 1, 17: 2, 2: 1, 19: 1, 4: 2, 8: 1, 20: 1, 11: 2, 12: 1, 13: 1, 14: 1}) == {8: 3, 18: 2}\n",
    "    assert count_dict_difference({0: 1, 17: 1, 18: 3, 3: 1, 4: 3, 6: 2, 13: 1}, {0: 2, 17: 1, 2: 1, 3: 1, 4: 1, 8: 1, 24: 1, 18: 1, 12: 1, 13: 1, 14: 1}) == {18: 2, 4: 2, 6: 2}\n",
    "    assert count_dict_difference({0: 3, 3: 1, 4: 1, 6: 1, 11: 1, 13: 1, 14: 1, 18: 1, 19: 1, 20: 1, 21: 1, 24: 1}, {17: 1, 18: 1, 3: 1, 4: 2, 21: 1, 6: 1, 8: 1, 20: 1, 11: 1, 13: 1, 14: 1}) == {0: 3, 24: 1, 19: 1}\n",
    "    assert count_dict_difference({17: 2, 2: 1, 3: 2, 4: 2, 13: 1, 18: 1, 14: 2, 15: 1}, {0: 1, 17: 2, 2: 1, 4: 2, 5: 1, 18: 1, 12: 1, 13: 3, 14: 2, 15: 1}) == {3: 2}\n",
    "    assert count_dict_difference({0: 1, 18: 6, 4: 2, 11: 1, 12: 1, 13: 1}, {0: 1, 17: 1, 2: 1, 19: 1, 4: 2, 6: 1, 11: 1, 12: 1, 13: 1, 14: 2}) == {18: 6}\n",
    " \n",
    "    assert count_dict_difference({'in': 1, 'ti': 1, 'iv': 1, 'se': 1, 've': 1, 'en': 1, 'ns': 2, 'it': 1, 'si': 1}, {'ve': 1, 'ti': 1, 'iv': 1, 'si': 1, 'it': 1, 'ns': 2, 'st': 1, 'ra': 1, 'tr': 1, 'in': 1, 'an': 1}) == {'se': 1, 'en': 1}\n",
    "    assert count_dict_difference({'th': 1, 'gt': 1, 'le': 1, 'en': 2, 'ng': 1, 'he': 1, 'ed': 1, 'ne': 1}, {'th': 1, 'ed': 1, 'ng': 1, 'en': 2, 'gt': 1, 'st': 1, 'he': 1, 're': 1, 'tr': 1, 'ne': 1}) == {'le': 1}\n",
    "    assert count_dict_difference({'sm': 2, 'ri': 1, 'me': 2, 'es': 1, 'is': 1, 'er': 1}, {'di': 1, 'er': 1, 'st': 1, 'is': 1, 're': 1, 'dn': 1, 'si': 1, 'ne': 1, 'in': 1, 'ed': 1, 'nt': 1, 'es': 3, 'se': 1, 'ss': 1, 'te': 2}) == {'me': 2, 'ri': 1, 'sm': 2}\n",
    "    assert count_dict_difference({'iz': 1, 'on': 1, 'al': 1, 'ze': 1, 'li': 1, 'at': 1, 'na': 2, 'ti': 1, 'io': 1}, {'za': 1, 'ra': 1, 'on': 2, 'al': 1, 'li': 1, 'iz': 1, 'at': 2, 'na': 1, 'ti': 2, 'io': 2}) == {'ze': 1, 'na': 1}\n",
    " \n",
    "    assert count_dict_difference({(0, 5, 6): 1, (0, 5): 1, (5, 5): 2, (5, 0): 1, (5, 6): 1, (5, 5, 0): 1, (6, 5, 5): 1, (5, 5, 5): 1, (6, 5): 1, (5, 6, 5): 1}, {(0, 5, 5): 1, (5, 5, 6): 1, (0, 5): 1, (5, 5): 2, (5, 0): 1, (5, 6): 1, (6, 5, 0): 1, (5, 5, 5): 1, (6, 5): 1, (5, 6, 5): 1}) == {(0, 5, 6): 1, (5, 5, 0): 1, (6, 5, 5): 1}\n",
    "    assert count_dict_difference({(2, 0): 1, (7, 7, 7): 2, (8, 7): 1, (8, 7, 7): 1, (7, 2, 0): 1, (7, 7): 3, (7, 2): 1, (7, 7, 2): 1}, {(8, 7, 7): 1, (2, 0): 1, (7, 2, 0): 1, (8, 7): 1, (7, 8, 7): 1, (7, 7, 8): 1, (7, 8): 1, (7, 7): 2, (7, 2): 1, (7, 7, 2): 1}) == {(7, 7, 7): 2, (7, 7): 1}\n",
    "    assert count_dict_difference({(8, 8, 5): 1, (0, 8, 8): 1, (8, 8): 1, (8, 5, 3): 1, (5, 3, 0): 1, (3, 0): 1, (3, 0, 8): 1, (0, 8): 2, (8, 5): 1, (5, 3): 1}, {(8, 8, 5): 1, (3, 0, 0): 1, (8, 8): 2, (8, 5, 3): 1, (5, 3, 0): 1, (3, 0): 1, (8, 8, 8): 1, (8, 5): 1, (0, 0): 1, (5, 3): 1}) == {(3, 0, 8): 1, (0, 8, 8): 1, (0, 8): 2}\n",
    "    \n",
    "    print(\"all tests passed\")\n",
    "\n",
    "test_count_dict_difference() "
   ]
  },
  {
   "cell_type": "code",
   "execution_count": 361,
   "metadata": {},
   "outputs": [
    {
     "name": "stdout",
     "output_type": "stream",
     "text": [
      "all tests passed\n"
     ]
    }
   ],
   "source": [
    " \n",
    "# Implement the function approximate_integral below.\n",
    "# (The statement \"pass\" is just a placeholder that does nothing: you\n",
    "# should replace it.)\n",
    "# You can define other functions if it helps you decompose and solve\n",
    "# the problem.\n",
    "# Do not import any module that you do not use!\n",
    " \n",
    "# Remember that if this were an exam problem, in order to be marked\n",
    "# this file must meet certain requirements:\n",
    "# - it must contain ONLY syntactically valid python code (any syntax\n",
    "#   or indentation error that stops the file from running would result\n",
    "#   in a mark of zero);\n",
    "# - you MAY NOT use global variables; the function must use only the\n",
    "#   input provided to it in its arguments.\n",
    " \n",
    "def approximate_integral(lower, upper, nterms):\n",
    "    def f(x):\n",
    "        return x**3\n",
    "    \n",
    "    area_sum = 0\n",
    "    d = (upper - lower) / nterms\n",
    "    for i in range(nterms):\n",
    "        x = lower + i * d\n",
    "        x_d = lower + (i+1) * d\n",
    "\n",
    "        fx = f(x)\n",
    "        fx_d = f(x_d)\n",
    "\n",
    "        area_sum += (fx + fx_d) * d / 2\n",
    "    \n",
    "    return area_sum\n",
    " \n",
    " \n",
    "def test_approximate_integral():\n",
    "    \"\"\"\n",
    "    This function runs a number of tests of the approximate_integral function.\n",
    "    If it works ok, you will just see the output (\"all tests passed\") at\n",
    "    the end when you call this function; if some test fails, there will\n",
    "    be an error message.\n",
    "    \"\"\"\n",
    "    \n",
    "    assert abs(approximate_integral(0, 1, 1) - 0.5) < 1e-6, 'sum of 0.5'\n",
    "    assert abs(approximate_integral(1, 2, 1) - 4.5) < 1e-6, 'sum of 4.5'\n",
    "    assert abs(approximate_integral(0, 2, 1) - 8.0) < 1e-6, 'sum of 8.0'\n",
    "    assert abs(approximate_integral(0, 1, 2) - 0.3125) < 1e-6, 'sum of 0.03125, 0.28125'\n",
    "    assert abs(approximate_integral(1, 2, 2) - 3.9375) < 1e-6, 'sum of 1.09375, 2.84375'\n",
    "    assert abs(approximate_integral(0, 2, 2) - 5.0) < 1e-6, 'sum of 0.5, 4.5'\n",
    "    assert abs(approximate_integral(0, 1, 5) - 0.26) < 1e-6, 'sum of 0.0008000000000000003, 0.007200000000000002, 0.028000000000000014, 0.07280000000000002, 0.1512'\n",
    "    assert abs(approximate_integral(1, 2, 5) - 3.7799999999999994) < 1e-6, 'sum of 0.2728, 0.4472, 0.6839999999999998, 0.9927999999999998, 1.3831999999999995'\n",
    "    assert abs(approximate_integral(0, 2, 5) - 4.16) < 1e-6, 'sum of 0.012800000000000004, 0.11520000000000004, 0.44800000000000023, 1.1648000000000003, 2.4192'\n",
    " \n",
    "    assert abs(approximate_integral(-1, 0, 1) - -0.5) < 1e-6, 'sum of -0.5'\n",
    "    assert abs(approximate_integral(-2, -1, 1) - -4.5) < 1e-6, 'sum of -4.5'\n",
    "    assert abs(approximate_integral(-2, 0, 1) - -8.0) < 1e-6, 'sum of -8.0'\n",
    "    assert abs(approximate_integral(-1, 0, 2) - -0.3125) < 1e-6, 'sum of -0.28125, -0.03125'\n",
    "    assert abs(approximate_integral(-2, -1, 2) - -3.9375) < 1e-6, 'sum of -2.84375, -1.09375'\n",
    "    assert abs(approximate_integral(-2, 0, 2) - -5.0) < 1e-6, 'sum of -4.5, -0.5'\n",
    "    assert abs(approximate_integral(-1, 0, 5) - -0.260) < 1e-6, 'sum of -0.1512, -0.07280, -0.0280, -0.00720, -0.00080'\n",
    "    assert abs(approximate_integral(-2, -1, 5) - -3.780) < 1e-6, 'sum of -1.38320, -0.99280, -0.6840, -0.44720, -0.27280'\n",
    "    assert abs(approximate_integral(-2, 0, 5) - -4.160) < 1e-6, 'sum of -2.4192, -1.16480, -0.4480, -0.11520, -0.01280'\n",
    " \n",
    "    assert abs(approximate_integral(-1, 1, 1) - 0.0) < 1e-6, 'sum of 0.0'\n",
    "    assert abs(approximate_integral(-1, 1, 2) - 0.0) < 1e-6, 'sum of -0.5, 0.5'\n",
    "    assert abs(approximate_integral(-1, 1, 4) - 0.0) < 1e-6, 'sum of -0.28125, -0.03125, 0.03125, 0.28125'\n",
    "    assert abs(approximate_integral(-2, 2, 1) - 0.0) < 1e-6, 'sum of 0.0'\n",
    "    assert abs(approximate_integral(-2, 2, 2) - 0.0) < 1e-6, 'sum of -8.0, 8.0'\n",
    "    assert abs(approximate_integral(-2, 2, 4) - 0.0) < 1e-6, 'sum of -4.5, -0.5, 0.5, 4.5'\n",
    " \n",
    "    print(\"all tests passed\")\n",
    "\n",
    "test_approximate_integral()"
   ]
  },
  {
   "cell_type": "code",
   "execution_count": 362,
   "metadata": {},
   "outputs": [
    {
     "name": "stdout",
     "output_type": "stream",
     "text": [
      "all tests passed\n"
     ]
    }
   ],
   "source": [
    "def interval_intersection(lA, uA, lB, uB):\n",
    "    if uA < lB or uB < lA:\n",
    "        return 0.0\n",
    "    else:\n",
    "        return min(uA, uB) - max(lA, lB)\n",
    " \n",
    " \n",
    "def test_interval_intersection():\n",
    "    \"\"\"\n",
    "    This function runs a number of tests of the interval_intersection function.\n",
    "    If it works ok, you will just see the output (\"all tests passed\") at\n",
    "    the end when you call this function; if some test fails, there will\n",
    "    be an error message.\n",
    "    \"\"\"\n",
    " \n",
    "    assert interval_intersection(0, 2, 4, 7.5) == 0.0, \"no intersection (uA < lB)\"\n",
    "    assert interval_intersection(1, 3, 2.5, 6) == 0.5, \"intersection is [2.5, 3]\"\n",
    "    assert interval_intersection(1, 3, 1.5, 5) == 1.5, \"intersection is [1.5, 3]\"\n",
    "    assert interval_intersection(0, 2, -2, 1.5) == 1.5, \"intersection is [0, 1.5]\"\n",
    "    assert interval_intersection(1, 3, 0, 3.5) == 2.0, \"A is contained in B\"\n",
    "    assert interval_intersection(1.5, 3.5, 0, 3.5) == 2.0, \"A is contained in B\"\n",
    " \n",
    "    print(\"all tests passed\")\n",
    "\n",
    "test_interval_intersection()"
   ]
  },
  {
   "cell_type": "code",
   "execution_count": 363,
   "metadata": {},
   "outputs": [
    {
     "name": "stdout",
     "output_type": "stream",
     "text": [
      "all tests passed\n"
     ]
    }
   ],
   "source": [
    "def super_increasing(seq):\n",
    "    for i in range(1, len(seq)):\n",
    "        if sum(seq[:i]) >= seq[i]:\n",
    "            return False\n",
    "    return True\n",
    " \n",
    " \n",
    "def test_super_increasing():\n",
    "    \"\"\"\n",
    "    This function runs a number of tests of the super_increasing function.\n",
    "    If it works ok, you will just see the output (\"all tests passed\") at\n",
    "    the end when you call this function; if some test fails, there will\n",
    "    be an error message.\n",
    "    \"\"\"\n",
    " \n",
    "    assert not super_increasing((1, 3, 5, 7, 19)), \"sum(1, 3, 5) = 9 >= 7\"\n",
    "    assert super_increasing([1, 3, 5, 11, 21]), \"sum(1) = 1 < 3; sum(1,3) = 4 < 5; sum(1, 3, 5) = 9 < 11; sum(1, 3, 5, 11) = 20 < 21\"\n",
    "    assert super_increasing((0, 1, 2, 4)), \"sum(0) = 0 < 1; sum(0, 1) = 1 < 2; sum(0, 1, 2) = 3 < 4\"\n",
    "    assert not super_increasing([0, 0, 1, 2]), \"sum(0) = 0 >= 0\"\n",
    "    assert super_increasing((-1, 0, 0, 1)), \"sum(-1) = -1 < 0; sum(-1, 0) = -1 < 0; sum(-1, 0, 0) = -1 < 1\"\n",
    "    assert not super_increasing((1, 2, 0, 4)), \"sum(1, 2) = 3 >= 0\"\n",
    "    assert super_increasing((-1, 3, 4)), \"sum(-1) < 3; sum(-1, 3) = 2 < 4\"\n",
    "    assert not super_increasing((-1, 3, 4, 5)), \"sum(-1, 3, 4) = 6 >= 5\"\n",
    "    assert super_increasing((-2, -1, -2)), \"sum(-2) < -1; sum(-2, -1) = -3 < -2\"\n",
    "    assert not super_increasing((-2, -1, -4)), \"sum(-2, -1) = -3 >= -4\"\n",
    " \n",
    "    print(\"all tests passed\")\n",
    "\n",
    "test_super_increasing()"
   ]
  },
  {
   "cell_type": "code",
   "execution_count": 364,
   "metadata": {},
   "outputs": [
    {
     "name": "stdout",
     "output_type": "stream",
     "text": [
      "all tests passed\n"
     ]
    }
   ],
   "source": [
    "\n",
    "# Implement the function moving_average below.\n",
    "# You can define other functions if it helps you decompose and solve\n",
    "# the problem.\n",
    "# Do not import any module that you do not use!\n",
    "\n",
    "# Remember that if this were an exam problem, in order to be marked\n",
    "# this file must meet certain requirements:\n",
    "# - it must contain ONLY syntactically valid python code (any syntax\n",
    "#   or indentation error that stops the file from running would result\n",
    "#   in a mark of zero);\n",
    "# - you MAY NOT use global variables; the function must use only the\n",
    "#   input provided to it in its arguments.\n",
    "\n",
    "import numpy as np\n",
    "\n",
    "def moving_average(seq, wsize):\n",
    "    avg_results = []\n",
    "    for i in range(len(seq) - wsize + 1):\n",
    "        avg_results.append(np.mean(seq[i:i+wsize]))\n",
    "    return avg_results\n",
    "\n",
    "\n",
    "def seq_matches(seq1, seq2):\n",
    "    \"\"\"\n",
    "    Return True if two sequences of numbers match with a tolerance of 0.001\n",
    "    \"\"\"\n",
    "    if len(seq1) != len(seq2):\n",
    "        return False\n",
    "    for i in range(len(seq1)):\n",
    "        if abs(seq1[i] - seq2[i]) > 1e-3:\n",
    "            return False\n",
    "    return True\n",
    "\n",
    "def test_moving_average():\n",
    "    \"\"\"\n",
    "    This function runs a number of tests of the moving_average function.\n",
    "    If it works ok, you will just see the output (\"all tests passed\") at\n",
    "    the end when you call this function; if some test fails, there will\n",
    "    be an error message.\n",
    "    \"\"\"\n",
    "    \n",
    "    assert seq_matches(moving_average((-1, 0, 0, -2, 1), 2), (-0.5, 0.0, -1.0, -0.5))\n",
    "    assert seq_matches(moving_average([-1, 0, 0, -2, 1], 3), (-0.334, -0.667, -0.334))\n",
    "    assert seq_matches(moving_average(np.array([-1, 0, 0, -2, 1]), 4), (-0.75, -0.25))\n",
    "    assert seq_matches(moving_average((0, 1, 2, 0, 2), 2), (0.5, 1.5, 1.0, 1.0))\n",
    "    assert seq_matches(moving_average((0, 1, 2, 0, 2), 3), (1.0, 1.0, 1.333))\n",
    "    assert seq_matches(moving_average((0, 1, 2, 0, 2), 4), (0.75, 1.25))\n",
    "\n",
    "    assert seq_matches(moving_average((-0.4, -0.4, 1.2, -1.6, 1.2), 2), (-0.4, 0.4, -0.2, -0.2))\n",
    "    assert seq_matches(moving_average((-0.4, -0.4, 1.2, -1.6, 1.2), 3), (0.133, -0.267, 0.266))\n",
    "    assert seq_matches(moving_average((-0.4, -0.4, 1.2, -1.6, 1.2), 4), (-0.3, 0.1))\n",
    "    assert seq_matches(moving_average((0.8, 2.0, 0.2, 1.0, 0.4), 2), (1.4, 1.1, 0.6, 0.7))\n",
    "    assert seq_matches(moving_average((0.8, 2.0, 0.2, 1.0, 0.4), 3), (1.0, 1.066, 0.533))\n",
    "    assert seq_matches(moving_average((0.8, 2.0, 0.2, 1.0, 0.4), 4), (1.0, 0.9))\n",
    "\n",
    "    assert seq_matches(moving_average((-1.5, -4.0, -3.0, 3.5, 4.5, 0.0, -3.5, -0.5, 4.0, 0.5), 2), (-2.75, -3.5, 0.25, 4.0, 2.25, -1.75, -2.0, 1.75, 2.25))\n",
    "    assert seq_matches(moving_average((-1.5, -4.0, -3.0, 3.5, 4.5, 0.0, -3.5, -0.5, 4.0, 0.5), 5), (-0.1, 0.2, 0.3, 0.8, 0.9, 0.1))\n",
    "    assert seq_matches(moving_average((-1.5, -4.0, -3.0, 3.5, 4.5, 0.0, -3.5, -0.5, 4.0, 0.5), 8), (-0.563, 0.125, 0.687))\n",
    "    assert seq_matches(moving_average((2.5, -1.0, 1.0, 3.5, -5.0, -0.5, 4.5, -5.0, 5.0, -3.5), 2), (0.75, 0.0, 2.25, -0.75, -2.75, 2.0, -0.25, 0.0, 0.75))\n",
    "    assert seq_matches(moving_average((2.5, -1.0, 1.0, 3.5, -5.0, -0.5, 4.5, -5.0, 5.0, -3.5), 5), (0.2, -0.4, 0.7, -0.5, -0.2, 0.1))\n",
    "    assert seq_matches(moving_average((2.5, -1.0, 1.0, 3.5, -5.0, -0.5, 4.5, -5.0, 5.0, -3.5), 8), (0.0, 0.312, 0.0))\n",
    "    assert seq_matches(moving_average((2.5, -2.0, -2.5, 2.5, -0.5, -2.5, 0.5, -5.0, 4.5, -4.5, 3.0, 3.5, -4.0, 1.0, 5.0, 1.0, -1.0, 2.0, 4.0, -2.0), 2), (0.25, -2.25, 0.0, 1.0, -1.5, -1.0, -2.25, -0.25, 0.0, -0.75, 3.25, -0.25, -1.5, 3.0, 3.0, 0.0, 0.5, 3.0, 1.0))\n",
    "    assert seq_matches(moving_average((2.5, -2.0, -2.5, 2.5, -0.5, -2.5, 0.5, -5.0, 4.5, -4.5, 3.0, 3.5, -4.0, 1.0, 5.0, 1.0, -1.0, 2.0, 4.0, -2.0), 5), (0.0, -1.0, -0.5, -1.0, -0.6, -1.4, -0.3, 0.3, 0.5, -0.2, 1.7, 1.3, 0.4, 1.6, 2.2, 0.8))\n",
    "    assert seq_matches(moving_average((2.5, -2.0, -2.5, 2.5, -0.5, -2.5, 0.5, -5.0, 4.5, -4.5, 3.0, 3.5, -4.0, 1.0, 5.0, 1.0, -1.0, 2.0, 4.0, -2.0), 8), (-0.875, -0.625, -0.938, -0.25, -0.125, -0.563, -0.125, 0.437, 1.187, 0.5, 1.312, 1.437, 0.75))\n",
    "    assert seq_matches(moving_average((2.5, -2.0, -2.5, 2.5, -0.5, -2.5, 0.5, -5.0, 4.5, -4.5, 3.0, 3.5, -4.0, 1.0, 5.0, 1.0, -1.0, 2.0, 4.0, -2.0), 13), (-0.347, -0.462, 0.076, 0.346, 0.076, 0.269, 0.769, 0.576))\n",
    "    assert seq_matches(moving_average((-2.5, 3.5, 0.0, 3.5, 1.0, -2.5, -4.0, 1.5, -3.5, -3.0, 1.5, 0.0, 1.5, -3.5, -4.0, 3.5, 4.5, 2.5, 0.5, 0.5), 2), (0.5, 1.75, 1.75, 2.25, -0.75, -3.25, -1.25, -1.0, -3.25, -0.75, 0.75, 0.75, -1.0, -3.75, -0.25, 4.0, 3.5, 1.5, 0.5))\n",
    "    assert seq_matches(moving_average((-2.5, 3.5, 0.0, 3.5, 1.0, -2.5, -4.0, 1.5, -3.5, -3.0, 1.5, 0.0, 1.5, -3.5, -4.0, 3.5, 4.5, 2.5, 0.5, 0.5), 5), (1.1, 1.1, -0.4, -0.1, -1.5, -2.3, -1.5, -0.7, -0.7, -0.7, -0.9, -0.5, 0.4, 0.6, 1.4, 2.3))\n",
    "    assert seq_matches(moving_average((-2.5, 3.5, 0.0, 3.5, 1.0, -2.5, -4.0, 1.5, -3.5, -3.0, 1.5, 0.0, 1.5, -3.5, -4.0, 3.5, 4.5, 2.5, 0.5, 0.5), 8), (0.062, -0.063, -0.875, -0.688, -1.125, -1.063, -1.188, -1.188, -0.938, 0.062, 0.75, 0.625, 0.687))\n",
    "    assert seq_matches(moving_average((-2.5, 3.5, 0.0, 3.5, 1.0, -2.5, -4.0, 1.5, -3.5, -3.0, 1.5, 0.0, 1.5, -3.5, -4.0, 3.5, 4.5, 2.5, 0.5, 0.5), 13), (-0.231, -0.308, -0.885, -0.616, -0.539, -0.424, -0.193, 0.153))\n",
    "\n",
    "    print(\"all tests passed\")\n",
    "\n",
    "\n",
    "test_moving_average()\n"
   ]
  },
  {
   "cell_type": "code",
   "execution_count": 365,
   "metadata": {},
   "outputs": [
    {
     "data": {
      "text/plain": [
       "array([[1, 0, 0, 0, 0],\n",
       "       [0, 1, 0, 0, 0],\n",
       "       [0, 0, 1, 0, 0],\n",
       "       [0, 0, 0, 1, 0],\n",
       "       [0, 0, 0, 0, 1]])"
      ]
     },
     "execution_count": 365,
     "metadata": {},
     "output_type": "execute_result"
    }
   ],
   "source": [
    "diag_one = np.diag(([1 for i in range(5)]))\n",
    "\n",
    "diag_one"
   ]
  },
  {
   "cell_type": "code",
   "execution_count": 366,
   "metadata": {},
   "outputs": [
    {
     "name": "stdout",
     "output_type": "stream",
     "text": [
      "1\n",
      "6\n",
      "[[2 3]\n",
      " [5 6]]\n",
      "[5 7 9]\n",
      "[ 4 10 18]\n",
      "32\n",
      "0.540640252320559\n",
      "0.10069557035375228\n",
      "0.7498769465176518\n",
      "0.4470044644360168\n",
      "3.243841513923354\n",
      "[[1 2 3]\n",
      " [4 5 6]]\n",
      "[[1 3 5]\n",
      " [2 4 6]]\n",
      "[[ 1  2]\n",
      " [ 3  4]\n",
      " [ 5  6]\n",
      " [ 7  8]\n",
      " [ 9 10]]\n",
      "[array([1, 2]), array([3, 4]), array([5, 6])]\n"
     ]
    }
   ],
   "source": [
    "import numpy as np\n",
    "\n",
    "# Creating arrays\n",
    "arr1 = np.array([1, 2, 3])  # 1D array\n",
    "arr2 = np.array([[1, 2, 3], [4, 5, 6]])  # 2D array\n",
    "arr3 = np.zeros((2, 3))  # 2x3 array of zeros\n",
    "arr4 = np.ones((3, 2))  # 3x2 array of ones\n",
    "arr5 = np.random.rand(2, 3)  # 2x3 array of random numbers between 0 and 1\n",
    "\n",
    "# Array indexing and slicing\n",
    "print(arr1[0])  # 1\n",
    "print(arr2[1, 2])  # 6\n",
    "print(arr2[:, 1:])  # [[2, 3], [5, 6]]\n",
    "\n",
    "# Array operations\n",
    "arr6 = np.array([1, 2, 3])\n",
    "arr7 = np.array([4, 5, 6])\n",
    "print(arr6 + arr7)  # [5, 7, 9]\n",
    "print(arr6 * arr7)  # [4, 10, 18]\n",
    "print(np.dot(arr6, arr7))  # 32\n",
    "\n",
    "# Array functions\n",
    "print(np.mean(arr5))  # mean of all elements\n",
    "print(np.std(arr5))  # standard deviation of all elements\n",
    "print(np.max(arr5))  # maximum value in the array\n",
    "print(np.min(arr5))  # minimum value in the array\n",
    "print(np.sum(arr5))  # sum of all elements in the array\n",
    "\n",
    "# Reshaping arrays\n",
    "arr8 = np.array([[1, 2], [3, 4], [5, 6]])\n",
    "print(arr8.reshape(2, 3))  # [[1, 2, 3], [4, 5, 6]]\n",
    "\n",
    "# Transposing arrays\n",
    "print(arr8.T)  # [[1, 3, 5], [2, 4, 6]]\n",
    "\n",
    "# Concatenating arrays\n",
    "arr9 = np.array([[7, 8], [9, 10]])\n",
    "print(np.concatenate((arr8, arr9), axis=0))  # [[ 1,  2], [ 3,  4], [ 5,  6], [ 7,  8], [ 9, 10]]\n",
    "# print(np.concatenate((arr8, arr9), axis=1))  # [[ 1,  2,  7,  8], [ 3,  4,  9, 10], [ 5,  6,  0,  0]]\n",
    "\n",
    "# Stacking arrays\n",
    "# print(np.stack((arr8, arr9), axis=0))  # [[[ 1,  2], [ 3,  4], [ 5,  6]], [[ 7,  8], [ 9, 10]]]\n",
    "# print(np.stack((arr8, arr9), axis=1))  # [[[ 1,  2], [ 7,  8]], [[ 3,  4], [ 9, 10]], [[ 5,  6], [ 0,  0]]]\n",
    "\n",
    "# Splitting arrays\n",
    "arr10 = np.array([1, 2, 3, 4, 5, 6])\n",
    "print(np.split(arr10, 3))  # [array([1, 2]), array([3, 4]), array([5, 6])]\n"
   ]
  }
 ],
 "metadata": {
  "kernelspec": {
   "display_name": "Python 3 (ipykernel)",
   "language": "python",
   "name": "python3"
  },
  "language_info": {
   "codemirror_mode": {
    "name": "ipython",
    "version": 3
   },
   "file_extension": ".py",
   "mimetype": "text/x-python",
   "name": "python",
   "nbconvert_exporter": "python",
   "pygments_lexer": "ipython3",
   "version": "3.9.6"
  }
 },
 "nbformat": 4,
 "nbformat_minor": 4
}
