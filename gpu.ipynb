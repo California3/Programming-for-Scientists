{
 "cells": [
  {
   "cell_type": "code",
   "execution_count": 1,
   "metadata": {},
   "outputs": [
    {
     "name": "stdout",
     "output_type": "stream",
     "text": [
      "Working on mps:0\n"
     ]
    }
   ],
   "source": [
    "import torch\n",
    "import time\n",
    "\n",
    "device = 'mps:0' if torch.backends.mps.is_available() else 'cpu'\n",
    "print('Working on {}'.format(device))"
   ]
  },
  {
   "cell_type": "code",
   "execution_count": 2,
   "metadata": {},
   "outputs": [
    {
     "name": "stdout",
     "output_type": "stream",
     "text": [
      "With MPS, time: 0.16936707496643066\n",
      "With CPU, time: 0.8604929447174072\n",
      "done!\n"
     ]
    }
   ],
   "source": [
    "dev = 'mps:0'\n",
    "conv = torch.nn.Conv2d(10, 10, 3).to(dev)\n",
    "img = torch.randn(64, 10, 64, 64).to(dev)\n",
    "t0 = time.time()\n",
    "for i in range(100) :\n",
    "    conv(img)\n",
    "t1 = time.time()\n",
    "print (f'With MPS, time: {t1-t0}')\n",
    "\n",
    "dev = 'cpu'\n",
    "conv = torch.nn.Conv2d (10, 10, 3).to(dev)\n",
    "img = torch.randn(64, 10, 64, 64).to(dev)\n",
    "t0 = time. time()\n",
    "for i in range (100) :\n",
    "    conv(img)\n",
    "t1 = time.time()\n",
    "print (f'With CPU, time: {t1-t0}')\n",
    "print(\"done!\")"
   ]
  }
 ],
 "metadata": {
  "kernelspec": {
   "display_name": "ML_env",
   "language": "python",
   "name": "python3"
  },
  "language_info": {
   "codemirror_mode": {
    "name": "ipython",
    "version": 3
   },
   "file_extension": ".py",
   "mimetype": "text/x-python",
   "name": "python",
   "nbconvert_exporter": "python",
   "pygments_lexer": "ipython3",
   "version": "3.9.6"
  }
 },
 "nbformat": 4,
 "nbformat_minor": 2
}
